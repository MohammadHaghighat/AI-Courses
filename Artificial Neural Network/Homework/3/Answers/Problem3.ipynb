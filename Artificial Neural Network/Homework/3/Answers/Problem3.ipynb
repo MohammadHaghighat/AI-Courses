{
 "cells": [
  {
   "cell_type": "markdown",
   "id": "d1ef0e60-93bf-4e3f-947e-12ac94e1c7d2",
   "metadata": {},
   "source": [
    "# 3-Data Preparation and visualize some of the samples"
   ]
  },
  {
   "cell_type": "code",
   "execution_count": 44,
   "id": "acdcaaed-8a57-45f6-9380-5448976a05e8",
   "metadata": {},
   "outputs": [
    {
     "name": "stdout",
     "output_type": "stream",
     "text": [
      "RBF with random centers:\n",
      "Train accuracy: 0.8083333333333333\n",
      "Test accuracy: 0.8333333333333334\n",
      "\n",
      "RBF with KMean centers:\n",
      "Train accuracy: 0.9166666666666666\n",
      "Test accuracy: 0.8666666666666667\n"
     ]
    },
    {
     "name": "stderr",
     "output_type": "stream",
     "text": [
      "C:\\ProgramData\\anaconda3\\Lib\\site-packages\\sklearn\\cluster\\_kmeans.py:1446: UserWarning: KMeans is known to have a memory leak on Windows with MKL, when there are less chunks than available threads. You can avoid it by setting the environment variable OMP_NUM_THREADS=1.\n",
      "  warnings.warn(\n"
     ]
    }
   ],
   "source": [
    "import numpy as np\n",
    "import matplotlib.pyplot as plt\n",
    "from sklearn.datasets import load_iris\n",
    "from sklearn.model_selection import train_test_split\n",
    "from sklearn.preprocessing import StandardScaler\n",
    "from sklearn.metrics import accuracy_score\n",
    "from sklearn.cluster import KMeans\n",
    "\n",
    "iris_dataset = load_iris()\n",
    "X = iris_dataset.data\n",
    "y = iris_dataset.target\n",
    "\n",
    "X_train, X_test, y_train, y_test = train_test_split(X, y, test_size=0.2, random_state=42)\n",
    "\n",
    "scaler = StandardScaler()\n",
    "X_train = scaler.fit_transform(X_train)\n",
    "X_test = scaler.transform(X_test)\n",
    "    \n",
    "def gaussian_rbf(x, center, gamma):\n",
    "    return np.exp(-gamma * np.linalg.norm(x - center) ** 2)\n",
    "\n",
    "class RBFNetwork:\n",
    "    def __init__(self, centers_count, gamma=1.0):\n",
    "        self.centers_count = centers_count\n",
    "        self.gamma = gamma\n",
    "\n",
    "    def select_random_centers(self, X):\n",
    "        indexes = np.random.choice(X.shape[0], self.centers_count, replace=False)\n",
    "        self.centers = X[indexes]\n",
    "\n",
    "    def select_centers_kmeans(self, X):\n",
    "        kmeans = KMeans(n_clusters=self.centers_count, random_state=42)\n",
    "        kmeans.fit(X)\n",
    "        self.centers = kmeans.cluster_centers_\n",
    "\n",
    "    def compute_interpolation_matrix(self, X):\n",
    "        G = np.zeros((X.shape[0], self.centers_count))\n",
    "        for i, x in enumerate(X):\n",
    "            for j, c in enumerate(self.centers):\n",
    "                G[i, j] = gaussian_rbf(x, c, self.gamma)\n",
    "        return G\n",
    "\n",
    "    def fit(self, X, y):\n",
    "        G = self.compute_interpolation_matrix(X)\n",
    "        self.weights = np.linalg.pinv(G).dot(y)\n",
    "\n",
    "    def predict(self, X):\n",
    "        G = self.compute_interpolation_matrix(X)\n",
    "        predictions = G.dot(self.weights)\n",
    "        return np.round(predictions).astype(int)\n",
    "\n",
    "centers_count = 15\n",
    "gamma = 1.2\n",
    "\n",
    "rbf_net_random = RBFNetwork(centers_count = centers_count, gamma = gamma)\n",
    "rbf_net_random.select_random_centers(X_train)\n",
    "rbf_net_random.fit(X_train, y_train)\n",
    "\n",
    "y_pred_train_random = rbf_net_random.predict(X_train)\n",
    "y_pred_test_random = rbf_net_random.predict(X_test)\n",
    "\n",
    "train_accuracy_random = accuracy_score(y_train, y_pred_train_random)\n",
    "test_accuracy_random = accuracy_score(y_test, y_pred_test_random)\n",
    "\n",
    "print('RBF with random centers:')\n",
    "print('Train accuracy:',train_accuracy_random)\n",
    "print('Test accuracy:',test_accuracy_random)\n",
    "\n",
    "rbf_net_kmeans = RBFNetwork(centers_count=centers_count, gamma=gamma)\n",
    "rbf_net_kmeans.select_centers_kmeans(X_train)\n",
    "rbf_net_kmeans.fit(X_train, y_train)\n",
    "\n",
    "y_pred_train_kmeans = rbf_net_kmeans.predict(X_train)\n",
    "y_pred_test_kmeans = rbf_net_kmeans.predict(X_test)\n",
    "\n",
    "train_accuracy_kmeans = accuracy_score(y_train, y_pred_train_kmeans)\n",
    "test_accuracy_kmeans = accuracy_score(y_test, y_pred_test_kmeans)\n",
    "\n",
    "print()\n",
    "print('RBF with KMean centers:')\n",
    "print('Train accuracy:',train_accuracy_kmeans)\n",
    "print('Test accuracy:',test_accuracy_kmeans)"
   ]
  },
  {
   "cell_type": "code",
   "execution_count": null,
   "id": "93f6ea13-bace-4fc3-9fb7-b67336c5f662",
   "metadata": {},
   "outputs": [],
   "source": []
  },
  {
   "cell_type": "code",
   "execution_count": null,
   "id": "8bdc5e07-83b7-4c65-84d7-c2cf54e6d8e1",
   "metadata": {},
   "outputs": [],
   "source": []
  }
 ],
 "metadata": {
  "kernelspec": {
   "display_name": "Python 3 (ipykernel)",
   "language": "python",
   "name": "python3"
  },
  "language_info": {
   "codemirror_mode": {
    "name": "ipython",
    "version": 3
   },
   "file_extension": ".py",
   "mimetype": "text/x-python",
   "name": "python",
   "nbconvert_exporter": "python",
   "pygments_lexer": "ipython3",
   "version": "3.12.4"
  }
 },
 "nbformat": 4,
 "nbformat_minor": 5
}
