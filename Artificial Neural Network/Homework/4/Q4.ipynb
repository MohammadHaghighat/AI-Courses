{
  "cells": [
    {
      "cell_type": "code",
      "execution_count": 2,
      "id": "1a889c9a-599e-4581-8821-4255589bdbcd",
      "metadata": {
        "colab": {
          "base_uri": "https://localhost:8080/"
        },
        "id": "1a889c9a-599e-4581-8821-4255589bdbcd",
        "outputId": "3e85c4d1-68ce-40f3-ac82-b94bf83ce40a"
      },
      "outputs": [
        {
          "output_type": "stream",
          "name": "stdout",
          "text": [
            "\n",
            "test 1:\n",
            "Temperature: 20°C, Humidity: 90%\n",
            "Motor Speed: 16.50\n",
            "\n",
            "test 2:\n",
            "Temperature: -30°C, Humidity: 20%\n",
            "Motor Speed: 16.11\n",
            "\n",
            "test 3:\n",
            "Temperature: 0°C, Humidity: 50%\n",
            "Motor Speed: 16.67\n",
            "\n",
            "test 4:\n",
            "Temperature: 35°C, Humidity: 30%\n",
            "Motor Speed: 4.40\n"
          ]
        }
      ],
      "source": [
        "import numpy as np\n",
        "import skfuzzy as fuzz\n",
        "from skfuzzy import control as ctrl\n",
        "\n",
        "def create_fuzzy_system():\n",
        "    temperature = ctrl.Antecedent(np.arange(-40, 41, 1), 'temperature')\n",
        "    humidity = ctrl.Antecedent(np.arange(0, 101, 1), 'humidity')\n",
        "    motor_speed = ctrl.Consequent(np.arange(0, 21, 1), 'motor_speed')\n",
        "\n",
        "    temperature['low'] = fuzz.trimf(temperature.universe, [-40, -40, 0])\n",
        "    temperature['moderate'] = fuzz.trimf(temperature.universe, [-10, 0, 30])\n",
        "    temperature['high'] = fuzz.trimf(temperature.universe, [20, 40, 40])\n",
        "\n",
        "    humidity['low'] = fuzz.trimf(humidity.universe, [0, 0, 40])\n",
        "    humidity['moderate'] = fuzz.trimf(humidity.universe, [30, 50, 70])\n",
        "    humidity['high'] = fuzz.trimf(humidity.universe, [60, 100, 100])\n",
        "\n",
        "    motor_speed['low'] = fuzz.trimf(motor_speed.universe, [0, 0, 10])\n",
        "    motor_speed['high'] = fuzz.trimf(motor_speed.universe, [10, 20, 20])\n",
        "\n",
        "    rule1 = ctrl.Rule(temperature['high'] & humidity['low'], motor_speed['low'])\n",
        "    rule2 = ctrl.Rule(temperature['moderate'] & humidity['low'], motor_speed['low'])\n",
        "    rule3 = ctrl.Rule(temperature['low'] & humidity['low'], motor_speed['high'])\n",
        "    rule4 = ctrl.Rule(humidity['moderate'], motor_speed['high'])\n",
        "    rule5 = ctrl.Rule(temperature['low'] & humidity['high'], motor_speed['high'])\n",
        "    rule6 = ctrl.Rule(humidity['high'], motor_speed['high'])\n",
        "\n",
        "    control_system = ctrl.ControlSystem([rule1, rule2, rule3, rule4, rule5, rule6])\n",
        "    return control_system\n",
        "\n",
        "def get_motor_speed(control_system, temp, hum):\n",
        "    simulator = ctrl.ControlSystemSimulation(control_system)\n",
        "    simulator.input['temperature'] = temp\n",
        "    simulator.input['humidity'] = hum\n",
        "    simulator.compute()\n",
        "    return simulator.output['motor_speed']\n",
        "\n",
        "control_system = create_fuzzy_system()\n",
        "\n",
        "print(\"\\ntest 1:\")\n",
        "temp, hum = 20, 90\n",
        "print(f\"Temperature: {temp}°C, Humidity: {hum}%\")\n",
        "motor_speed = get_motor_speed(control_system, temp, hum)\n",
        "print(f\"Motor Speed: {motor_speed:.2f}\")\n",
        "\n",
        "test_cases = [\n",
        "    (-30, 20),\n",
        "    (0, 50),\n",
        "    (35, 30),\n",
        "]\n",
        "\n",
        "for i, (temp, hum) in enumerate(test_cases, 2):\n",
        "    print(f\"\\ntest {i}:\")\n",
        "    print(f\"Temperature: {temp}°C, Humidity: {hum}%\")\n",
        "    motor_speed = get_motor_speed(control_system, temp, hum)\n",
        "    print(f\"Motor Speed: {motor_speed:.2f}\")"
      ]
    }
  ],
  "metadata": {
    "kernelspec": {
      "display_name": "Python 3 (ipykernel)",
      "language": "python",
      "name": "python3"
    },
    "language_info": {
      "codemirror_mode": {
        "name": "ipython",
        "version": 3
      },
      "file_extension": ".py",
      "mimetype": "text/x-python",
      "name": "python",
      "nbconvert_exporter": "python",
      "pygments_lexer": "ipython3",
      "version": "3.12.4"
    },
    "colab": {
      "provenance": []
    }
  },
  "nbformat": 4,
  "nbformat_minor": 5
}