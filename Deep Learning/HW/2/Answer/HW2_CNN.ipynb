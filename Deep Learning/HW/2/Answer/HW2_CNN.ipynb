{
  "cells": [
    {
      "cell_type": "code",
      "execution_count": 3,
      "metadata": {
        "id": "O7Bw3UJ0waRC"
      },
      "outputs": [],
      "source": [
        "import os\n",
        "import cv2\n",
        "import glob\n",
        "import torch\n",
        "import numpy as np\n",
        "import seaborn as sns\n",
        "import torch.nn as nn\n",
        "import torch.optim as optim\n",
        "import matplotlib.pyplot as plt\n",
        "from torchvision import transforms\n",
        "from torch.utils.data import DataLoader\n",
        "from sklearn.metrics import confusion_matrix\n",
        "import torch.optim.lr_scheduler as lr_scheduler\n",
        "from torch.utils.data import Dataset, DataLoader\n",
        "from sklearn.model_selection import train_test_split"
      ]
    },
    {
      "cell_type": "code",
      "source": [
        "import shutil\n",
        "shutil.unpack_archive(\"/content/dataset.zip\", \"/content/dataset\")"
      ],
      "metadata": {
        "id": "0wmEkscuIjIN"
      },
      "execution_count": 4,
      "outputs": []
    },
    {
      "cell_type": "code",
      "execution_count": 5,
      "metadata": {
        "id": "AvjMXbqMwpY1"
      },
      "outputs": [],
      "source": [
        "PATH = \"/content/dataset/dataset\"\n",
        "EPOCHS = 100\n",
        "BATCH_SIZE = 32\n",
        "VALIDATION_SPLIT = 0.2"
      ]
    },
    {
      "cell_type": "code",
      "execution_count": 6,
      "metadata": {
        "id": "kvnjZYXDwuXY"
      },
      "outputs": [],
      "source": [
        "def calculate_label(img_basename: str) -> int:\n",
        "  '''\n",
        "  a function for generating lebel for each image from its basename\n",
        "  inputs:\n",
        "  img_basename: a string shows an image name with its extention\n",
        "  e.g. calculate_label('example.jpg')\n",
        "\n",
        "  outputs:\n",
        "  return label as an integer number for input image\n",
        "  '''\n",
        "\n",
        "  tmp = img_basename[:len(img_basename)-4].split(\"_\")\n",
        "  row = tmp[2]\n",
        "  rod_id = int(tmp[3])\n",
        "  if row in {\"A\", \"B\", \"E\", \"F\", \"I\", \"J\"}:\n",
        "    label = 4-(rod_id % 4)\n",
        "  else:\n",
        "    label = (rod_id % 4)+1\n",
        "  return label"
      ]
    },
    {
      "cell_type": "code",
      "execution_count": 20,
      "metadata": {
        "id": "h5hdkcvywwuo"
      },
      "outputs": [],
      "source": [
        "class ImageDataset(Dataset):\n",
        "    def __init__(self, image_paths, labels, transform=None):\n",
        "        self.image_paths = image_paths\n",
        "        self.labels = labels\n",
        "        self.transform = transform\n",
        "\n",
        "    def __len__(self):\n",
        "        return len(self.image_paths)\n",
        "\n",
        "    def __getitem__(self, idx):\n",
        "        img_path = self.image_paths[idx]\n",
        "        img = cv2.imread(img_path)\n",
        "        img = cv2.cvtColor(img, cv2.COLOR_BGR2RGB)  # Convert BGR to RGB\n",
        "\n",
        "        # Apply transformations if any\n",
        "        if self.transform:\n",
        "            img = self.transform(img)\n",
        "\n",
        "        label = self.labels[idx]\n",
        "        return img, label\n",
        "\n",
        "def create_dataset(path: str, test_split: float, b_sz: int):\n",
        "    '''\n",
        "    A function for creating dataset from path which is passed to it.\n",
        "    - Reads images\n",
        "    - Generates labels\n",
        "    - Normalizes data\n",
        "    - Converts labels to integers\n",
        "    - Splits train and test data\n",
        "\n",
        "    Inputs:\n",
        "    path: str - Path to the folder containing images\n",
        "    test_split: float - test split ratio\n",
        "    b_sz: int - batch size\n",
        "\n",
        "    Outputs:\n",
        "    DataLoader instances for train and test sets\n",
        "    '''\n",
        "    imgs_path = glob.glob(os.path.join(path, \"*.jpg\"))\n",
        "\n",
        "    # Generate labels based on filenames\n",
        "    labels = [calculate_label(os.path.basename(img_path)) for img_path in imgs_path]\n",
        "    # Normalize and transform images (resize and normalization)\n",
        "    transform = transforms.Compose([\n",
        "        transforms.ToPILImage(),  # Convert to PIL\n",
        "        transforms.Resize((64, 64)),  # Resize image to (64, 64)\n",
        "        transforms.ToTensor(),  # Convert to tensor\n",
        "        transforms.Normalize(mean=[0.5, 0.5, 0.5], std=[0.5, 0.5, 0.5])  # Normalize to [-1, 1]\n",
        "    ])\n",
        "\n",
        "    # Split into training and test datasets, set random seed\n",
        "    X_train, X_test, Y_train, Y_test = train_test_split(\n",
        "        imgs_path, labels, test_size=test_split, random_state=42, stratify=labels\n",
        "    )\n",
        "\n",
        "    # Convert lists of labels to numpy arrays\n",
        "    Y_train = np.array(Y_train)\n",
        "    Y_test = np.array(Y_test)\n",
        "\n",
        "    # Convert label arrays to torch tensors\n",
        "    Y_train = torch.tensor(Y_train, dtype=torch.long)\n",
        "    Y_test = torch.tensor(Y_test, dtype=torch.long)\n",
        "\n",
        "    # Create Dataset objects for train and test sets\n",
        "    train_dataset = ImageDataset(X_train, Y_train, transform=transform)\n",
        "    test_dataset = ImageDataset(X_test, Y_test, transform=transform)\n",
        "\n",
        "    # Create DataLoader for batching, shuffling, and loading data\n",
        "    train_loader = DataLoader(train_dataset, batch_size=b_sz, shuffle=True)\n",
        "    test_loader = DataLoader(test_dataset, batch_size=b_sz, shuffle=False)\n",
        "\n",
        "    return train_loader, test_loader\n"
      ]
    },
    {
      "cell_type": "code",
      "execution_count": 8,
      "metadata": {
        "id": "q1NWtGbLxu4g"
      },
      "outputs": [],
      "source": [
        "class MyModel(nn.Module):\n",
        "    '''\n",
        "\n",
        "    Create your own CNN model (with desired architecture)\n",
        "\n",
        "    '''\n",
        "    def __init__(self):\n",
        "        super(MyModel, self).__init__()\n",
        "\n",
        "        self.conv_layers = nn.Sequential(\n",
        "            nn.Conv2d(3, 32, kernel_size=3, padding=1),  # Input: 3x64x64, Output: 32x64x64\n",
        "            nn.BatchNorm2d(32),\n",
        "            nn.ReLU(),\n",
        "            nn.MaxPool2d(2, 2),  # Output: 32x32x32\n",
        "\n",
        "            nn.Conv2d(32, 64, kernel_size=3, padding=1),  # Output: 64x32x32\n",
        "            nn.BatchNorm2d(64),\n",
        "            nn.ReLU(),\n",
        "            nn.MaxPool2d(2, 2),  # Output: 64x16x16\n",
        "\n",
        "            nn.Conv2d(64, 128, kernel_size=3, padding=1),  # Output: 128x16x16\n",
        "            nn.BatchNorm2d(128),\n",
        "            nn.ReLU(),\n",
        "            nn.MaxPool2d(2, 2),  # Output: 128x8x8\n",
        "        )\n",
        "        self.fc_layers = nn.Sequential(\n",
        "            nn.Flatten(),\n",
        "            nn.Linear(128 * 8 * 8, 512),  # 128 channels * 8x8\n",
        "            nn.ReLU(),\n",
        "            nn.Dropout(0.5),  # Prevent overfitting\n",
        "            nn.Linear(512, 5),  # Output: 5 classes (labels 0 to 4)\n",
        "        )\n",
        "    def forward(self, x):\n",
        "        x = self.conv_layers(x)\n",
        "        x = self.fc_layers(x)\n",
        "        return x\n"
      ]
    },
    {
      "cell_type": "code",
      "execution_count": 9,
      "metadata": {
        "id": "lBWqS5p2x7eC"
      },
      "outputs": [],
      "source": [
        "class EarlyStopping:\n",
        "    def __init__(self, patience=5, verbose=False, delta=0):\n",
        "        \"\"\"\n",
        "        Args:\n",
        "            patience (int): How many epochs to wait after the last time validation loss improved.\n",
        "            verbose (bool): Whether to print out messages when stopping early.\n",
        "            delta (float): Minimum change to qualify as an improvement.\n",
        "        \"\"\"\n",
        "        self.patience = patience\n",
        "        self.verbose = verbose\n",
        "        self.delta = delta\n",
        "        self.counter = 0\n",
        "        self.best_loss = None\n",
        "        self.early_stop = False\n",
        "\n",
        "    def __call__(self, val_loss, model):\n",
        "        if self.best_loss is None:\n",
        "            self.best_loss = val_loss\n",
        "        elif val_loss < self.best_loss - self.delta:\n",
        "            self.best_loss = val_loss\n",
        "            self.counter = 0\n",
        "        else:\n",
        "            self.counter += 1\n",
        "\n",
        "        if self.counter >= self.patience:\n",
        "            self.early_stop = True\n",
        "            if self.verbose:\n",
        "                print(f\"Early stopping triggered after {self.patience} epochs without improvement.\")"
      ]
    },
    {
      "cell_type": "code",
      "execution_count": 21,
      "metadata": {
        "id": "Zngj47YwyEn0"
      },
      "outputs": [],
      "source": [
        "def train_model(model, train_loader, test_loader, epochs=20, lr=0.01, patience=5):\n",
        "    '''\n",
        "    Training and validating loop. Return train and test losses and accs for plotting.\n",
        "\n",
        "    Use proper loss function and optimizer on your own.\n",
        "\n",
        "    Use lr scheduler and early stopping if needed.\n",
        "\n",
        "    inputs:\n",
        "      model (nn.module): CNN model\n",
        "      train_loader (Dataloader): train dataset loader\n",
        "      test_loader (Dataloader): test dataset loader\n",
        "      epochs (int): number of total epochs\n",
        "      lr (float): learning rate\n",
        "      patience (int): early stop patience\n",
        "\n",
        "    outputs:\n",
        "      train_losses (list): list of avg train loss in each epoch\n",
        "      train_accuracies (list): list of avg train acc in each epoch\n",
        "      test_losses (list): list of avg test loss in each epoch\n",
        "      test_accuracies (list): list of avg test acc in each epoch\n",
        "    '''\n",
        "    # Set up the criterion and optimizer\n",
        "    criterion = nn.CrossEntropyLoss()\n",
        "    optimizer = optim.Adam(model.parameters(), lr=lr)\n",
        "\n",
        "    device = torch.device(\"cuda\" if torch.cuda.is_available() else \"cpu\")\n",
        "    model.to(device)\n",
        "\n",
        "    train_losses = []\n",
        "    test_losses = []\n",
        "    train_accuracies = []\n",
        "    test_accuracies = []\n",
        "\n",
        "    best_val_loss = float('inf')  # For saving the best model\n",
        "\n",
        "    scheduler = lr_scheduler.ReduceLROnPlateau(optimizer, mode='min', factor=0.5, patience=3, verbose=True)\n",
        "\n",
        "    early_stopping = EarlyStopping(patience=patience, verbose=True)\n",
        "\n",
        "    # Train for a specified number of epochs\n",
        "    for epoch in range(epochs):\n",
        "        model.train()  # Set the model to training mode\n",
        "        running_train_loss = 0.0\n",
        "        correct_train = 0\n",
        "        total_train = 0\n",
        "\n",
        "        # Training Loop\n",
        "        for inputs, labels in train_loader:\n",
        "            inputs, labels = inputs.to(device), labels.to(device)\n",
        "\n",
        "            optimizer.zero_grad()\n",
        "\n",
        "            outputs = model(inputs)\n",
        "            loss = criterion(outputs, labels)\n",
        "            loss.backward()\n",
        "            optimizer.step()\n",
        "\n",
        "            running_train_loss += loss.item() * inputs.size(0)\n",
        "\n",
        "\n",
        "            _, predicted = torch.max(outputs.data, 1)\n",
        "            total_train += labels.size(0)\n",
        "            correct_train += (predicted == labels).sum().item()\n",
        "\n",
        "        # Compute training loss and accuracy\n",
        "        avg_train_loss = running_train_loss / total_train\n",
        "        train_accuracy = 100 * correct_train / total_train\n",
        "        train_losses.append(avg_train_loss)\n",
        "        train_accuracies.append(train_accuracy)\n",
        "\n",
        "        # Validation Loop\n",
        "        model.eval()  # Set the model to evaluation mode\n",
        "        running_test_loss = 0.0\n",
        "        correct_test = 0\n",
        "        total_test = 0\n",
        "\n",
        "        with torch.no_grad():  # No gradient calculation for validation\n",
        "            for inputs, labels in test_loader:\n",
        "                inputs, labels = inputs.to(device), labels.to(device)\n",
        "\n",
        "                outputs = model(inputs)\n",
        "                loss = criterion(outputs, labels)\n",
        "\n",
        "                running_test_loss += loss.item() * inputs.size(0)\n",
        "\n",
        "                _, predicted = torch.max(outputs.data, 1)\n",
        "                total_test += labels.size(0)\n",
        "                correct_test += (predicted == labels).sum().item()\n",
        "\n",
        "        # Compute test loss and accuracy\n",
        "        avg_test_loss = running_test_loss / total_test\n",
        "        test_accuracy = 100 * correct_test / total_test\n",
        "        test_losses.append(avg_test_loss)\n",
        "        test_accuracies.append(test_accuracy)\n",
        "\n",
        "        # Save the model if it has the best validation loss\n",
        "        if avg_test_loss < best_val_loss:\n",
        "            print(f\"Saving model with better validation loss: {avg_test_loss:.4f}\")\n",
        "            best_val_loss = avg_test_loss\n",
        "            torch.save(model.state_dict(), 'best_model.pth')  # Save the best model\n",
        "\n",
        "\n",
        "        # Call early stopping after each epoch\n",
        "        early_stopping(avg_test_loss, model)\n",
        "\n",
        "        # If early stopping is triggered, break the loop\n",
        "        if early_stopping.early_stop:\n",
        "            print(\"Early stopping\")\n",
        "            break\n",
        "\n",
        "\n",
        "        # Print the train and test loss and accuracy for the current epoch\n",
        "        print(f\"Epoch [{epoch+1}/{epochs}], \"\n",
        "              f\"Train Loss: {avg_train_loss:.4f}, Train Acc: {train_accuracy:.2f}%, \"\n",
        "              f\"Test Loss: {avg_test_loss:.4f}, Test Acc: {test_accuracy:.2f}%\")\n",
        "\n",
        "        # Call lr scheduler after each epoch\n",
        "        scheduler.step(avg_test_loss)\n",
        "\n",
        "    return train_losses, test_losses, train_accuracies, test_accuracies\n"
      ]
    },
    {
      "cell_type": "code",
      "execution_count": 11,
      "metadata": {
        "id": "3SwsmDw00dL1"
      },
      "outputs": [],
      "source": [
        "def plot_loss_accuracy(train_losses, test_losses, train_accuracies, test_accuracies):\n",
        "    # Plot the loss curve\n",
        "    plt.figure(figsize=(12, 5))\n",
        "\n",
        "    plt.subplot(1, 2, 1)\n",
        "    plt.plot(train_losses, label='Train Loss')\n",
        "    plt.plot(test_losses, label='Test Loss')\n",
        "    plt.xlabel('Epoch')\n",
        "    plt.ylabel('Loss')\n",
        "    plt.title('Training and Testing Loss')\n",
        "    plt.legend()\n",
        "\n",
        "    # Plot the accuracy curve\n",
        "    plt.subplot(1, 2, 2)\n",
        "    plt.plot(train_accuracies, label='Train Accuracy')\n",
        "    plt.plot(test_accuracies, label='Test Accuracy')\n",
        "    plt.xlabel('Epoch')\n",
        "    plt.ylabel('Accuracy (%)')\n",
        "    plt.title('Training and Testing Accuracy')\n",
        "    plt.legend()\n",
        "\n",
        "    plt.tight_layout()\n",
        "    plt.show()\n"
      ]
    },
    {
      "cell_type": "code",
      "execution_count": 12,
      "metadata": {
        "id": "Y_6r8x5I0nHH"
      },
      "outputs": [],
      "source": [
        "def plot_confusion_matrix(y_true, y_pred, num_classes):\n",
        "\n",
        "    # calculate and plot confusion matrix\n",
        "\n",
        "    cm = confusion_matrix(y_true, y_pred, labels=range(num_classes))\n",
        "\n",
        "    plt.figure(figsize=(8, 6))\n",
        "    sns.heatmap(cm, annot=True, fmt='d', cmap='Blues', xticklabels=range(num_classes), yticklabels=range(num_classes))\n",
        "    plt.xlabel('Predicted')\n",
        "    plt.ylabel('True')\n",
        "    plt.title('Confusion Matrix')\n",
        "    plt.show()\n",
        "\n",
        "def evaluate_model(model, eval_loader, num_classes=5):\n",
        "    model.eval()  # Set the model to evaluation mode\n",
        "\n",
        "    device = \"cuda\" if torch.cuda.is_available() else \"cpu\"\n",
        "    model.to(device)\n",
        "\n",
        "    # Define loss function for calculating loss value on test data\n",
        "    criterion = nn.CrossEntropyLoss()\n",
        "\n",
        "    correct_eval = 0\n",
        "    total_eval = 0\n",
        "    running_eval_loss = 0.0\n",
        "\n",
        "    all_labels = []\n",
        "    all_preds = []\n",
        "\n",
        "    with torch.no_grad():\n",
        "        for inputs, labels in eval_loader:\n",
        "            inputs, labels = inputs.to(device), labels.to(device)\n",
        "            outputs = model(inputs)\n",
        "            loss = criterion(outputs, labels)\n",
        "\n",
        "            running_eval_loss += loss.item() * inputs.size(0)\n",
        "\n",
        "            _, predicted = torch.max(outputs.data, 1)\n",
        "\n",
        "            total_eval += labels.size(0)\n",
        "            correct_eval += (predicted == labels).sum().item()\n",
        "\n",
        "            all_labels.extend(labels.cpu().numpy())  # Store true labels\n",
        "            all_preds.extend(predicted.cpu().numpy())  # Store predicted labels\n",
        "\n",
        "    eval_loss = running_eval_loss / total_eval\n",
        "    eval_accuracy = 100 * correct_eval / total_eval\n",
        "\n",
        "    print(f\"Evaluation Loss: {eval_loss:.4f}, Evaluation Accuracy: {eval_accuracy:.2f}%\")\n",
        "\n",
        "    # Plot confusion matrix\n",
        "    plot_confusion_matrix(all_labels, all_preds, num_classes)\n"
      ]
    },
    {
      "cell_type": "code",
      "execution_count": 13,
      "metadata": {
        "id": "s_0wLwYqFMEK"
      },
      "outputs": [],
      "source": [
        "def load_model(model, filepath='best_model.pth'):\n",
        "    model.load_state_dict(torch.load(filepath))  # Load model weights\n",
        "    model.eval()  # Set the model to evaluation mode\n",
        "    print(f\"Model loaded from {filepath}\")\n",
        "    return model\n"
      ]
    },
    {
      "cell_type": "code",
      "execution_count": 22,
      "metadata": {
        "id": "9Z1shoSHIC2C"
      },
      "outputs": [],
      "source": [
        "train_loader, test_loader = create_dataset(PATH, VALIDATION_SPLIT, BATCH_SIZE)"
      ]
    },
    {
      "cell_type": "code",
      "execution_count": 27,
      "metadata": {
        "id": "-HfW9WDfIEb7"
      },
      "outputs": [],
      "source": [
        "model = MyModel()"
      ]
    },
    {
      "cell_type": "code",
      "execution_count": 28,
      "metadata": {
        "colab": {
          "base_uri": "https://localhost:8080/"
        },
        "id": "jYMVFg7jIGK9",
        "outputId": "ea135bb7-97d2-4aea-a15a-5389aca9aa39"
      },
      "outputs": [
        {
          "output_type": "stream",
          "name": "stdout",
          "text": [
            "Saving model with better validation loss: 1.3933\n",
            "Epoch [1/100], Train Loss: 6.6792, Train Acc: 24.71%, Test Loss: 1.3933, Test Acc: 23.73%\n",
            "Saving model with better validation loss: 1.3917\n",
            "Epoch [2/100], Train Loss: 1.4134, Train Acc: 25.26%, Test Loss: 1.3917, Test Acc: 25.35%\n",
            "Saving model with better validation loss: 1.3910\n",
            "Epoch [3/100], Train Loss: 1.4056, Train Acc: 25.23%, Test Loss: 1.3910, Test Acc: 24.77%\n",
            "Saving model with better validation loss: 1.3894\n",
            "Epoch [4/100], Train Loss: 1.3990, Train Acc: 25.38%, Test Loss: 1.3894, Test Acc: 27.43%\n",
            "Saving model with better validation loss: 1.2120\n",
            "Epoch [5/100], Train Loss: 1.3579, Train Acc: 29.63%, Test Loss: 1.2120, Test Acc: 46.30%\n",
            "Saving model with better validation loss: 1.0818\n",
            "Epoch [6/100], Train Loss: 1.2468, Train Acc: 36.46%, Test Loss: 1.0818, Test Acc: 45.02%\n",
            "Epoch [7/100], Train Loss: 1.1873, Train Acc: 41.35%, Test Loss: 1.1923, Test Acc: 45.72%\n",
            "Saving model with better validation loss: 1.0587\n",
            "Epoch [8/100], Train Loss: 1.1405, Train Acc: 44.27%, Test Loss: 1.0587, Test Acc: 46.18%\n",
            "Saving model with better validation loss: 0.7687\n",
            "Epoch [9/100], Train Loss: 1.1436, Train Acc: 46.67%, Test Loss: 0.7687, Test Acc: 75.23%\n",
            "Saving model with better validation loss: 0.7131\n",
            "Epoch [10/100], Train Loss: 1.0497, Train Acc: 52.23%, Test Loss: 0.7131, Test Acc: 73.15%\n",
            "Epoch [11/100], Train Loss: 0.9963, Train Acc: 53.70%, Test Loss: 1.2983, Test Acc: 39.24%\n",
            "Epoch [12/100], Train Loss: 0.9435, Train Acc: 54.66%, Test Loss: 0.7145, Test Acc: 70.60%\n",
            "Saving model with better validation loss: 0.6086\n",
            "Epoch [13/100], Train Loss: 0.8534, Train Acc: 61.81%, Test Loss: 0.6086, Test Acc: 71.76%\n",
            "Saving model with better validation loss: 0.5810\n",
            "Epoch [14/100], Train Loss: 0.7756, Train Acc: 62.04%, Test Loss: 0.5810, Test Acc: 74.42%\n",
            "Saving model with better validation loss: 0.5760\n",
            "Epoch [15/100], Train Loss: 0.7774, Train Acc: 62.93%, Test Loss: 0.5760, Test Acc: 74.07%\n",
            "Saving model with better validation loss: 0.5100\n",
            "Epoch [16/100], Train Loss: 0.7261, Train Acc: 64.29%, Test Loss: 0.5100, Test Acc: 73.15%\n",
            "Saving model with better validation loss: 0.4879\n",
            "Epoch [17/100], Train Loss: 0.7059, Train Acc: 66.15%, Test Loss: 0.4879, Test Acc: 79.51%\n",
            "Saving model with better validation loss: 0.4869\n",
            "Epoch [18/100], Train Loss: 0.6286, Train Acc: 72.28%, Test Loss: 0.4869, Test Acc: 78.24%\n",
            "Saving model with better validation loss: 0.3776\n",
            "Epoch [19/100], Train Loss: 0.6132, Train Acc: 73.12%, Test Loss: 0.3776, Test Acc: 88.89%\n",
            "Saving model with better validation loss: 0.3286\n",
            "Epoch [20/100], Train Loss: 0.5913, Train Acc: 74.77%, Test Loss: 0.3286, Test Acc: 92.25%\n",
            "Saving model with better validation loss: 0.3223\n",
            "Epoch [21/100], Train Loss: 0.5551, Train Acc: 76.45%, Test Loss: 0.3223, Test Acc: 95.02%\n",
            "Saving model with better validation loss: 0.2941\n",
            "Epoch [22/100], Train Loss: 0.5226, Train Acc: 78.12%, Test Loss: 0.2941, Test Acc: 95.14%\n",
            "Saving model with better validation loss: 0.2481\n",
            "Epoch [23/100], Train Loss: 0.5060, Train Acc: 79.98%, Test Loss: 0.2481, Test Acc: 95.49%\n",
            "Saving model with better validation loss: 0.2383\n",
            "Epoch [24/100], Train Loss: 0.4589, Train Acc: 83.51%, Test Loss: 0.2383, Test Acc: 95.02%\n",
            "Saving model with better validation loss: 0.2350\n",
            "Epoch [25/100], Train Loss: 0.4403, Train Acc: 83.83%, Test Loss: 0.2350, Test Acc: 95.60%\n",
            "Saving model with better validation loss: 0.2197\n",
            "Epoch [26/100], Train Loss: 0.4463, Train Acc: 83.45%, Test Loss: 0.2197, Test Acc: 95.49%\n",
            "Saving model with better validation loss: 0.1352\n",
            "Epoch [27/100], Train Loss: 0.4411, Train Acc: 83.33%, Test Loss: 0.1352, Test Acc: 96.64%\n",
            "Epoch [28/100], Train Loss: 0.4361, Train Acc: 83.71%, Test Loss: 1.0537, Test Acc: 80.79%\n",
            "Epoch [29/100], Train Loss: 0.4529, Train Acc: 83.54%, Test Loss: 0.1609, Test Acc: 95.02%\n",
            "Saving model with better validation loss: 0.1252\n",
            "Epoch [30/100], Train Loss: 0.3096, Train Acc: 87.64%, Test Loss: 0.1252, Test Acc: 96.88%\n",
            "Saving model with better validation loss: 0.0582\n",
            "Epoch [31/100], Train Loss: 0.2679, Train Acc: 89.29%, Test Loss: 0.0582, Test Acc: 98.50%\n",
            "Epoch [32/100], Train Loss: 0.2938, Train Acc: 88.22%, Test Loss: 0.1144, Test Acc: 96.64%\n",
            "Epoch [33/100], Train Loss: 0.2794, Train Acc: 89.35%, Test Loss: 0.2455, Test Acc: 90.74%\n",
            "Epoch [34/100], Train Loss: 0.2667, Train Acc: 90.05%, Test Loss: 0.1060, Test Acc: 97.22%\n",
            "Epoch [35/100], Train Loss: 0.2406, Train Acc: 91.98%, Test Loss: 0.1111, Test Acc: 96.99%\n",
            "Early stopping triggered after 5 epochs without improvement.\n",
            "Early stopping\n"
          ]
        }
      ],
      "source": [
        "train_losses, test_losses, train_accuracies, test_accuracies = train_model(model, train_loader, test_loader, epochs=EPOCHS)"
      ]
    },
    {
      "cell_type": "code",
      "execution_count": 29,
      "metadata": {
        "colab": {
          "base_uri": "https://localhost:8080/",
          "height": 476
        },
        "id": "lW7rUFwxTkwo",
        "outputId": "67c68bbd-a481-40fd-99df-f320b6c333b0"
      },
      "outputs": [
        {
          "output_type": "display_data",
          "data": {
            "text/plain": [
              "<Figure size 1200x500 with 2 Axes>"
            ],
            "image/png": "[encoded data removed]"
          },
          "metadata": {}
        }
      ],
      "source": [
        "plot_loss_accuracy(train_losses, test_losses, train_accuracies, test_accuracies)"
      ]
    },
    {
      "cell_type": "code",
      "execution_count": 30,
      "metadata": {
        "colab": {
          "base_uri": "https://localhost:8080/"
        },
        "id": "E325by-rTyZI",
        "outputId": "8298685c-0f8c-411f-862c-1bd43ae630bd"
      },
      "outputs": [
        {
          "output_type": "stream",
          "name": "stdout",
          "text": [
            "Model loaded from best_model.pth\n"
          ]
        }
      ],
      "source": [
        "best_model = load_model(model, 'best_model.pth')"
      ]
    },
    {
      "cell_type": "code",
      "execution_count": 31,
      "metadata": {
        "colab": {
          "base_uri": "https://localhost:8080/",
          "height": 581
        },
        "id": "eFRBRN4XT0wJ",
        "outputId": "0ac20470-c083-4760-d6ac-5b6e236788ee"
      },
      "outputs": [
        {
          "output_type": "stream",
          "name": "stdout",
          "text": [
            "Evaluation Loss: 0.0582, Evaluation Accuracy: 98.50%\n"
          ]
        },
        {
          "output_type": "display_data",
          "data": {
            "text/plain": [
              "<Figure size 800x600 with 2 Axes>"
            ],
            "image/png": "[encoded data removed]"
          },
          "metadata": {}
        }
      ],
      "source": [
        "evaluate_model(best_model, test_loader)"
      ]
    }
  ],
  "metadata": {
    "colab": {
      "provenance": []
    },
    "kernelspec": {
      "display_name": "base",
      "language": "python",
      "name": "python3"
    },
    "language_info": {
      "codemirror_mode": {
        "name": "ipython",
        "version": 3
      },
      "file_extension": ".py",
      "mimetype": "text/x-python",
      "name": "python",
      "nbconvert_exporter": "python",
      "pygments_lexer": "ipython3",
      "version": "3.11.0"
    }
  },
  "nbformat": 4,
  "nbformat_minor": 0
}