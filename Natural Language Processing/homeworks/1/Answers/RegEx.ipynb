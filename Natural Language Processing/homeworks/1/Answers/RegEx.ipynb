{
 "cells": [
  {
   "cell_type": "markdown",
   "metadata": {
    "id": "wa66p4GMpuP2"
   },
   "source": [
    "# Python RegEx\n",
    "\n",
    "In this Notbook, you will learn about regular expressions (RegEx), and use Python's re module to work with RegEx (with the help of examples)."
   ]
  },
  {
   "cell_type": "markdown",
   "metadata": {
    "id": "B9zOnAyYpuP3"
   },
   "source": [
    "A **Reg**ular **Ex**pression (RegEx) is a sequence of characters that defines a search pattern. For example,\n",
    "\n",
    "```python\n",
    ">>> ^a...s$\n",
    "```\n",
    "\n",
    "The above code defines a RegEx pattern. The pattern is: **any five letter string starting with `a` and ending with `s`**.\n",
    "\n",
    "A pattern defined using RegEx can be used to match against a string.\n",
    "\n",
    "| Expression | String | Matched? |\n",
    "|:----| :--- |:--- |\n",
    "|               |  **`abs`** | No match |\n",
    "|               |  **`alias`** | Match |\n",
    "| **`^a...s$`** |  **`abyss`** | Match |\n",
    "|               |  **`Alias`** | No match |\n",
    "|               |  **`An abacus`** | No match |"
   ]
  },
  {
   "cell_type": "markdown",
   "metadata": {
    "id": "GhjBQBM4puP4"
   },
   "source": [
    "Python has a module named **`re`** to work with RegEx. Here's an example:"
   ]
  },
  {
   "cell_type": "code",
   "execution_count": 5,
   "metadata": {
    "ExecuteTime": {
     "end_time": "2021-10-19T12:31:12.328032Z",
     "start_time": "2021-10-19T12:31:12.315374Z"
    },
    "colab": {
     "base_uri": "https://localhost:8080/"
    },
    "id": "jUhuQYGGpuP4",
    "outputId": "28f748f9-4cf6-4d79-ec04-c3613b10e08e",
    "scrolled": true
   },
   "outputs": [
    {
     "name": "stdout",
     "output_type": "stream",
     "text": [
      "Search successful.\n"
     ]
    }
   ],
   "source": [
    "import re\n",
    "\n",
    "pattern = '^a...s$'\n",
    "test_string = 'abyss'\n",
    "result = re.match(pattern, test_string)\n",
    "\n",
    "if result:\n",
    "    print(\"Search successful.\")\n",
    "else:\n",
    "    print(\"Search unsuccessful!\")"
   ]
  },
  {
   "cell_type": "markdown",
   "metadata": {
    "id": "sqtLG4WrpuP7"
   },
   "source": [
    "Here, we used **`re.match()`** function to search **`pattern`** within the **`test_string`**. The method returns a match object if the search is successful. If not, it returns **`None`**."
   ]
  },
  {
   "cell_type": "markdown",
   "metadata": {
    "id": "6yR305NgpuP7"
   },
   "source": [
    "There are other several functions defined in the **`re`** module to work with RegEx. Before we explore that, let's learn about regular expressions themselves."
   ]
  },
  {
   "cell_type": "markdown",
   "metadata": {
    "id": "wGjNOtfapuP8"
   },
   "source": [
    "## Specify Pattern Using RegEx\n",
    "\n",
    "To specify regular expressions, metacharacters are used. In the above example, **`^`** and **`$`** are metacharacters."
   ]
  },
  {
   "cell_type": "markdown",
   "metadata": {
    "id": "v6vwD3wNpuP9"
   },
   "source": [
    "## MetaCharacters\n",
    "\n",
    "Metacharacters are characters that are interpreted in a special way by a RegEx engine. Here's a list of metacharacters:\n",
    "\n",
    "###  **`[] . ^ $ * + ? {} () \\ |`**"
   ]
  },
  {
   "cell_type": "markdown",
   "metadata": {
    "id": "QRtLlezSpuP9"
   },
   "source": [
    "### 1. `[]` - Square brackets\n",
    "\n",
    "Square brackets specifies a set of characters you wish to match.\n",
    "\n",
    "| Expression | String | Matched? |\n",
    "|:----| :--- |:--- |\n",
    "|             |  **`a`** | 1 match |\n",
    "|             |  **`ac`** | 2 matches |\n",
    "| **`[abc]`** |  **`Hey Jude`** | No match |\n",
    "|             |  **`abc de ca`** | 5 matches |\n",
    "\n",
    "Here, **`[abc]`** will match if the string you are trying to match contains any of the **`a`**, **`b`** or **`c`**.\n",
    "\n",
    "You can also specify a range of characters using **`-`** inside square brackets.\n",
    "\n",
    "* **`[a-c]`** means, a or b or c\n",
    "* **`[a-z]`** means, any letter from a to z\n",
    "* **`[A-Z]`** means, any character from A to Z\n",
    "* **`[0-3]`** means, 0 or 1 or 2 or 3\n",
    "* **`[0-9]`** means any number from 0 to 9\n",
    "* **`[A-Za-z0-9]`** any single character, that is a to z, A to Z or 0 to 9\n",
    "\n",
    "You can complement (invert) the character set by using caret **`^`** symbol at the start of a square-bracket.\n",
    "\n",
    "* **`[^abc]`** means any character except **`a`** or **`b`** or **`c`**.\n",
    "* **`[^0-9]`** means any non-digit character."
   ]
  },
  {
   "cell_type": "markdown",
   "metadata": {
    "id": "JMqL3O8XpuP-"
   },
   "source": [
    "### 2. `.` - Period\n",
    "\n",
    "A period matches any single character (except newline **`'\\n'`**).\n",
    "\n",
    "| Expression | String | Matched? |\n",
    "|:----| :--- |:--- |\n",
    "|          |  **`a`** | No match |\n",
    "|          |  **`ac`** | 1 match |\n",
    "| **`..`** |  **`acd`** | 1 match |\n",
    "|          |  **`acde`** | 2 matches (contains 4 characters) |"
   ]
  },
  {
   "cell_type": "markdown",
   "metadata": {
    "id": "AyXdMKOVpuP-"
   },
   "source": [
    "### 3. `^` - Caret\n",
    "\n",
    "The caret symbol **`^`** is used to check if a string **starts with** a certain character.\n",
    "\n",
    "  * **`r'^substring'`** eg **`r'^love'`**, a sentence that starts with a word love\n",
    "  * **`r'[^abc]`** means not a, not b, not c.\n",
    "\n",
    "| Expression | String | Matched? |\n",
    "|:----| :--- |:--- |\n",
    "|          |  **`a`** | 1 match |\n",
    "| **`^a`** |  **`abc`** | 1 match |\n",
    "|          |  **`bac`** | No match |\n",
    "|----------|------------|------------------------------------------------------------|\n",
    "| **`^a`** |  **`abc`** | 1 match |\n",
    "|          |  **`acd`** | No match (starts with **`a`** but not followed by **`b`**) |"
   ]
  },
  {
   "cell_type": "markdown",
   "metadata": {
    "id": "ZaX3grYapuP-"
   },
   "source": [
    "### 4. `$` - Dollar\n",
    "\n",
    "The dollar symbol **`$`** is used to check if a string **ends with** a certain character.\n",
    "\n",
    "| Expression | String | Matched? |\n",
    "|:----| :--- |:--- |\n",
    "|          |  **`a`** | 1 match |\n",
    "| **`a$`** |  **`formula`** | 1 match |\n",
    "|          |  **`cab`** | No result |"
   ]
  },
  {
   "cell_type": "markdown",
   "metadata": {
    "id": "GZPESpyXpuP-"
   },
   "source": [
    "### 5. `*` - Star\n",
    "\n",
    "The star symbol **`*`** matches **zero or more occurrences** of the pattern left to it.\n",
    "\n",
    "| Expression | String | Matched? |\n",
    "|:----| :--- |:--- |\n",
    "|            |  **`mn`** | 1 match |\n",
    "|            |  **`man`** | 1 match |\n",
    "| **`ma*n`** |  **`maaan`** | 1 match |\n",
    "|            |  **`main`** | No match (**`a`** is not followed by **`n`**) |\n",
    "|            |  **`woman`** | 1 match |"
   ]
  },
  {
   "cell_type": "markdown",
   "metadata": {
    "id": "aFQYZu7RpuP-"
   },
   "source": [
    "### 6. `+` - Plus\n",
    "\n",
    "The plus symbol **`+`** matches **zero or more occurrences** of the pattern left to it.\n",
    "\n",
    "| Expression | String | Matched? |\n",
    "|:----| :--- |:--- |\n",
    "|            |  **`mn`** | No match (no **`a`** character) |\n",
    "|            |  **`man`** | 1 match |\n",
    "| **`ma+n`** |  **`maaan`** | 1 match |\n",
    "|            |  **`main`** | No match (**`a`** is not followed by **`n`**) |\n",
    "|            |  **`woman`** | 1 match |"
   ]
  },
  {
   "cell_type": "markdown",
   "metadata": {
    "id": "91y8JtbspuP_"
   },
   "source": [
    "### 7. `?` - Question Mark\n",
    "\n",
    "The question mark symbol **`?`** matches **zero or more occurrences** of the pattern left to it.\n",
    "\n",
    "| Expression | String | Matched? |\n",
    "|:----| :--- |:--- |\n",
    "|            |  **`mn`** | 1 match |\n",
    "|            |  **`man`** | 1 match |\n",
    "| **`ma?n`** |  **`maaan`** | No match (more than one **`a`** character) |\n",
    "|            |  **`main`** | No match (**`a`** is not followed by **`n`**) |\n",
    "|            |  **`woman`** | 1 match |"
   ]
  },
  {
   "cell_type": "markdown",
   "metadata": {
    "id": "nR5effhspuP_"
   },
   "source": [
    "### 8. `{}` - Braces\n",
    "\n",
    "We can specify the length of the substring we are looking for in a text, using a curly brackets **`{}`**.\n",
    "\n",
    "Consider this code: **`{n,m}`**. This means at least **`n`**, and at most **`m`** repetitions of the pattern left to it.\n",
    "\n",
    "* **`{3}`**: Exactly 3 characters\n",
    "* **`{3,}`**: At least 3 characters\n",
    "* **`{3,8}`**: 3 to 8 characters\n",
    "\n",
    "| Expression | String | Matched? |\n",
    "|:----| :--- |:--- |\n",
    "|              |  **`abc dat`** | No match |\n",
    "|              |  **`abc daat`** | 1 match (at **`daat`**) |\n",
    "| **`a{2,3}`** |  **`aabc daaat`** | 2 matches (at **`aabc`** and **`daaat`**) |\n",
    "|              |  **`aabc daaaat`** | 2 matches (at **`aabc`** and **`daaaat`**) |\n",
    "\n",
    "Let's try one more example. This RegEx **`[0-9]{2, 4}`** matches at least 2 digits but not more than 4 digits\n",
    "\n",
    "| Expression | String | Matched? |\n",
    "|:----| :--- |:--- |\n",
    "|                  |  **`ab123csde`** | 1 match (match at **`ab123csde`**) |\n",
    "| **`[0-9]{2,4}`** |  **`12 and 345673`** | 3 matches (**`12`**, **`3456`**, **`73`**) |\n",
    "|                  |  **`1 and 2`** | No match |"
   ]
  },
  {
   "cell_type": "markdown",
   "metadata": {
    "id": "1fuWEXL4puP_"
   },
   "source": [
    "### 9. `|` - Alternation\n",
    "\n",
    "Vertical bar **`|`** is used for alternation (**`or`** operator).\n",
    "\n",
    "| Expression | String | Matched? |\n",
    "|:----| :--- |:--- |\n",
    "|           |  **`cde`** | No match |\n",
    "| **`a\\|b`** |  **`ade`** | 1 match (match at **`ade`**) |\n",
    "|           |  **`acdbea`** | 3 matches (at **`acdbea`**) |\n",
    "\n",
    "Here, **`a|b`** match any string that contains either **`a`** or **`b`**"
   ]
  },
  {
   "cell_type": "markdown",
   "metadata": {
    "id": "iCS2jUL9puP_"
   },
   "source": [
    "### 10. `()` - Group\n",
    "\n",
    "Parentheses **`()`** is used to group sub-patterns. For example, **`(a|b|c)xz`** match any string that matches either **`a`** or **`b`** or **`c`**. followed by **`xz`**.\n",
    "\n",
    "| Expression | String | Matched? |\n",
    "|:----| :--- |:--- |\n",
    "|                 |  **`ab xz`** | No match |\n",
    "| **`(a\\|b\\|c)xz`** |  **`abxz`** | 1 match (match at **`abxz`**) |\n",
    "|                 |  **`axz cabxz`** | 2 matches (at **`axz cabxz`**) |"
   ]
  },
  {
   "cell_type": "markdown",
   "metadata": {
    "id": "_RWOS1J_puP_"
   },
   "source": [
    "### 11. `\\` - Backslash\n",
    "\n",
    "Backlash **`\\`** is used to escape various characters including all metacharacters. For example,\n",
    "\n",
    "**`\\$a`** match if a string contains **`$`** followed by **`a`**. Here, **`$`** is not interpreted by a RegEx engine in a special way.\n",
    "\n",
    "If you are unsure if a character has special meaning or not, you can put **`\\`** in front of it. This makes sure the character is not treated in a special way."
   ]
  },
  {
   "cell_type": "markdown",
   "metadata": {
    "id": "kX0f7makpuP_"
   },
   "source": [
    "### Special Sequences\n",
    "\n",
    "Special sequences make commonly used patterns easier to write. Here's a list of special sequences:"
   ]
  },
  {
   "cell_type": "markdown",
   "metadata": {
    "id": "pYd9PL0LpuP_"
   },
   "source": [
    "#### `\\A` - Matches if the specified characters are at the start of a string.\n",
    "\n",
    "| Expression | String | Matched? |\n",
    "|:----| :--- |:--- |\n",
    "| **`\\Athe`** |  **`the sun`** | Match |\n",
    "|             |  **`In the sun`** | No match |"
   ]
  },
  {
   "cell_type": "markdown",
   "metadata": {
    "id": "dCK2anKUpuP_"
   },
   "source": [
    "#### `\\b` - Matches if the specified characters are at the beginning or end of a word.\n",
    "\n",
    "| Expression | String | Matched? |\n",
    "|:----| :--- |:--- |\n",
    "|             |  **`football`** | Match |\n",
    "| **`\\bfoo`** |  **`a football`** | Match |\n",
    "|             |  **`afootball`** | No match |\n",
    "|-------------|------------|-----------|\n",
    "| **`foo\\b`** |  **`the foo`** | Match |\n",
    "|             |  **`the afoo test`** | Match |\n",
    "|             |  **`the afootest`** | No match |"
   ]
  },
  {
   "cell_type": "markdown",
   "metadata": {
    "id": "_YBCoys0puQA"
   },
   "source": [
    "#### `\\B` - Opposite of `\\b`. Matches if the specified characters are not at the beginning or end of a word.\n",
    "\n",
    "| Expression | String | Matched? |\n",
    "|:----| :--- |:--- |\n",
    "|             |  **`football`** | No match |\n",
    "| **`\\Bfoo`** |  **`a football`** | No match |\n",
    "|             |  **`afootball`** | Match |\n",
    "|-------------|------------|-----------|\n",
    "| **`foo\\B`** |  **`the foo`** | No match |\n",
    "|             |  **`the afoo test`** | No match |\n",
    "|             |  **`the afootest`** | Match |"
   ]
  },
  {
   "cell_type": "markdown",
   "metadata": {
    "id": "l4ITVn3FpuQA"
   },
   "source": [
    "#### `\\d` - Matches any non-decimal digit. Equivalent to `[^0-9]`\n",
    "\n",
    "- **`\\d`** means: match where the string contains digits (numbers from 0-9)\n",
    "- **`\\D`** means: match where the string does not contain digits\n",
    "    \n",
    "| Expression | String | Matched? |\n",
    "|:----| :--- |:--- |\n",
    "| **`\\d`** |  **`1ab34\"50`** | 3 matches (at **`1ab34\"50`**) |\n",
    "|          |  **`1345`** | No match |"
   ]
  },
  {
   "cell_type": "markdown",
   "metadata": {
    "id": "6RdnNaa3puQA"
   },
   "source": [
    "#### `\\s` - Matches where a string contains any whitespace character. Equivalent to `[ \\t\\n\\r\\f\\v]`.\n",
    "\n",
    "| Expression | String | Matched? |\n",
    "|:----| :--- |:--- |\n",
    "| **`\\s`** |  **`Python RegEx`** | 1 match |\n",
    "|          |  **`PythonRegEx`** | No match |"
   ]
  },
  {
   "cell_type": "markdown",
   "metadata": {
    "id": "6dncLQt_puQA"
   },
   "source": [
    "#### `\\S` - Matches where a string contains any non-whitespace character. Equivalent to `[^ \\t\\n\\r\\f\\v]`.\n",
    "\n",
    "| Expression | String | Matched? |\n",
    "|:----| :--- |:--- |\n",
    "| **`\\S`** |  **`a b`** | 2 matches (at  **`a b`**) |\n",
    "|          |  **` `** | No match |"
   ]
  },
  {
   "cell_type": "markdown",
   "metadata": {
    "id": "of2Q6nHipuQA"
   },
   "source": [
    "#### `\\w` - Matches any alphanumeric character (digits and alphabets). Equivalent to `[a-zA-Z0-9_]`. By the way, underscore `_` is also considered an alphanumeric character.\n",
    "\n",
    "| Expression | String | Matched? |\n",
    "|:----| :--- |:--- |\n",
    "| **`\\w`** |  **`12&\": ;c`** | 3 matches (at **`12&\": ;c`**) |\n",
    "|          |  **`%\"> !`** | No match |"
   ]
  },
  {
   "cell_type": "markdown",
   "metadata": {
    "id": "91uoO0KFpuQA"
   },
   "source": [
    "#### `\\W` - Matches any non-alphanumeric character. Equivalent to `[^a-zA-Z0-9_]`.\n",
    "\n",
    "| Expression | String | Matched? |\n",
    "|:----| :--- |:--- |\n",
    "| **`\\W`** |  **`1a2%c`** | 1 match (at **`1a2%c`**) |\n",
    "|          |  **`Python`** | No match |"
   ]
  },
  {
   "cell_type": "markdown",
   "metadata": {
    "id": "0Afvlz28puQB"
   },
   "source": [
    "#### `\\Z` - Matches if the specified characters are at the end of a string.\n",
    "\n",
    "| Expression | String | Matched? |\n",
    "|:----| :--- |:--- |\n",
    "|                |  **`I like Python`** | 1 match |\n",
    "| **`Python\\Z`** |  **`I like Python Programming`** | No match |\n",
    "|                |  **`Python is fun.`** | No match |"
   ]
  },
  {
   "cell_type": "markdown",
   "metadata": {
    "heading_collapsed": true,
    "id": "eTb1OPMEpuQB"
   },
   "source": [
    "### Summary - MetaCharacters"
   ]
  },
  {
   "cell_type": "markdown",
   "metadata": {
    "hidden": true,
    "id": "tIAFq_dFpuQB"
   },
   "source": [
    "![regex.png](data:image/png;base64,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)"
   ]
  },
  {
   "cell_type": "markdown",
   "metadata": {
    "hidden": true,
    "id": "TsWcPhZMpuQB"
   },
   "source": [
    "A **Reg**ular **Ex**pression or **RegEx** is a special text string that helps to find patterns in data. A RegEx can be used to check if some pattern exists in a different data type. To use RegEx in python first we should import the RegEx module which is called **`re`**."
   ]
  },
  {
   "cell_type": "markdown",
   "metadata": {
    "heading_collapsed": true,
    "id": "BVnuJjY3puQB"
   },
   "source": [
    "### Python RegEx Methods\n",
    "\n",
    "To find a pattern we use different set of **`re`** character sets that allows to search for a match in a string.\n",
    "\n",
    "* **`re.findall`**: Returns a list containing all matches\n",
    "* **`re.split`**:\tTakes a string, splits it at the match points, returns a list\n",
    "* **`re.sub`**:  Replaces one or many matches within a string\n",
    "* **`re.search`**: Returns a match object if there is one anywhere in the string, including multiline strings.\n",
    "* **`re.match()`**: searches only in the beginning of the first line of the string and returns matched objects if found, else returns **`None`**.\n",
    "\n",
    "To use it, we need to import the module."
   ]
  },
  {
   "cell_type": "code",
   "execution_count": 9,
   "metadata": {
    "ExecuteTime": {
     "end_time": "2021-10-19T12:31:12.437103Z",
     "start_time": "2021-10-19T12:31:12.360170Z"
    },
    "hidden": true,
    "id": "oZDMNPshpuQC"
   },
   "outputs": [],
   "source": [
    "import re"
   ]
  },
  {
   "cell_type": "markdown",
   "metadata": {
    "hidden": true,
    "id": "OipWrtokpuQC"
   },
   "source": [
    "The module defines several functions and constants to work with RegEx."
   ]
  },
  {
   "cell_type": "markdown",
   "metadata": {
    "heading_collapsed": true,
    "id": "dHGFwy_npuQC"
   },
   "source": [
    "### 1. `re.findall()`\n",
    "\n",
    "The **`re.findall()`** method returns a list of strings containing all matches."
   ]
  },
  {
   "cell_type": "code",
   "execution_count": 3,
   "metadata": {
    "ExecuteTime": {
     "end_time": "2021-10-19T12:31:12.545683Z",
     "start_time": "2021-10-19T12:31:12.440996Z"
    },
    "colab": {
     "base_uri": "https://localhost:8080/"
    },
    "hidden": true,
    "id": "x8yBJlQKpuQC",
    "outputId": "f4f0bd16-9a3f-48bf-e15b-894f98207915"
   },
   "outputs": [
    {
     "name": "stdout",
     "output_type": "stream",
     "text": [
      "['12', '89', '34']\n"
     ]
    }
   ],
   "source": [
    "# Example 1: re.findall()\n",
    "\n",
    "# Program to extract numbers from a string\n",
    "\n",
    "import re\n",
    "\n",
    "string = 'hello 12 hi 89. Howdy 34'\n",
    "pattern = '\\d+'\n",
    "\n",
    "result = re.findall(pattern, string)\n",
    "print(result)\n",
    "\n",
    "# Output: ['12', '89', '34']"
   ]
  },
  {
   "cell_type": "markdown",
   "metadata": {
    "hidden": true,
    "id": "YPCqOtxOpuQH"
   },
   "source": [
    "If the pattern is not found, **`re.findall()`** returns an empty list."
   ]
  },
  {
   "cell_type": "code",
   "execution_count": 4,
   "metadata": {
    "ExecuteTime": {
     "end_time": "2021-10-19T12:31:12.639170Z",
     "start_time": "2021-10-19T12:31:12.550551Z"
    },
    "colab": {
     "base_uri": "https://localhost:8080/"
    },
    "hidden": true,
    "id": "e9z5pg7XpuQH",
    "outputId": "668e6e92-599a-40ca-d9d0-a462031b15b7"
   },
   "outputs": [
    {
     "name": "stdout",
     "output_type": "stream",
     "text": [
      "['language', 'language']\n"
     ]
    }
   ],
   "source": [
    "# Example 2: re.findall()\n",
    "\n",
    "txt = '''Python is the most beautiful language that a human being has ever created.\n",
    "I recommend python for a first programming language'''\n",
    "\n",
    "# It return a list\n",
    "matches = re.findall('language', txt, re.I)\n",
    "print(matches)  # ['language', 'language']"
   ]
  },
  {
   "cell_type": "markdown",
   "metadata": {
    "hidden": true,
    "id": "XGH92wNqpuQH"
   },
   "source": [
    "As you can see, the word **`language`** was found two times in the string. Let us practice some more.\n",
    "Now we will look for both **`Python`** and **`python`** words in the string:"
   ]
  },
  {
   "cell_type": "code",
   "execution_count": 5,
   "metadata": {
    "ExecuteTime": {
     "end_time": "2021-10-19T12:31:12.732170Z",
     "start_time": "2021-10-19T12:31:12.643064Z"
    },
    "colab": {
     "base_uri": "https://localhost:8080/"
    },
    "hidden": true,
    "id": "griIR-N4puQI",
    "outputId": "bc5836de-2c86-4d06-85c8-f0d0e7877013"
   },
   "outputs": [
    {
     "name": "stdout",
     "output_type": "stream",
     "text": [
      "['Python', 'python']\n"
     ]
    }
   ],
   "source": [
    "# Example 3: re.findall()\n",
    "\n",
    "txt = '''Python is the most beautiful language that a human being has ever created.\n",
    "I recommend python for a first programming language'''\n",
    "\n",
    "# It returns list\n",
    "matches = re.findall('python', txt, re.I)\n",
    "print(matches)  # ['Python', 'python']"
   ]
  },
  {
   "cell_type": "markdown",
   "metadata": {
    "hidden": true,
    "id": "m7cK-j54puQI"
   },
   "source": [
    "Since we are using **`re.I`** both lowercase and uppercase letters are included. If we do not have the **`re.I`** flag, then we will have to write our pattern differently. Let us check it out:"
   ]
  },
  {
   "cell_type": "code",
   "execution_count": 6,
   "metadata": {
    "ExecuteTime": {
     "end_time": "2021-10-19T12:31:12.856333Z",
     "start_time": "2021-10-19T12:31:12.735091Z"
    },
    "colab": {
     "base_uri": "https://localhost:8080/"
    },
    "hidden": true,
    "id": "KzEhNywapuQI",
    "outputId": "9d8b0412-d1b5-46f9-98f6-7a2eeb790f3b"
   },
   "outputs": [
    {
     "name": "stdout",
     "output_type": "stream",
     "text": [
      "['Python', 'python']\n",
      "['Python', 'python']\n"
     ]
    }
   ],
   "source": [
    "# Example 4: re.findall()\n",
    "\n",
    "txt = '''Python is the most beautiful language that a human being has ever created.\n",
    "I recommend python for a first programming language'''\n",
    "\n",
    "matches = re.findall('Python|python', txt)\n",
    "print(matches)  # ['Python', 'python']\n",
    "\n",
    "matches = re.findall('[Pp]ython', txt)\n",
    "print(matches)  # ['Python', 'python']"
   ]
  },
  {
   "cell_type": "markdown",
   "metadata": {
    "heading_collapsed": true,
    "id": "c8eyq3VppuQI"
   },
   "source": [
    "### 2. `re.split()`\n",
    "\n",
    "The **`re.split`** method splits the string where there is a match and returns a list of strings where the splits have occurred."
   ]
  },
  {
   "cell_type": "code",
   "execution_count": 7,
   "metadata": {
    "ExecuteTime": {
     "end_time": "2021-10-19T12:31:12.996076Z",
     "start_time": "2021-10-19T12:31:12.863149Z"
    },
    "colab": {
     "base_uri": "https://localhost:8080/"
    },
    "hidden": true,
    "id": "t8o9CujtpuQI",
    "outputId": "a505c29c-cfd0-4c55-c522-1a48573c4d7c"
   },
   "outputs": [
    {
     "name": "stdout",
     "output_type": "stream",
     "text": [
      "['I am teacher and  I love teaching.', 'There is nothing as rewarding as educating and empowering people.', 'I found teaching more interesting than any other jobs.', 'Does this motivate you to be a teacher?']\n"
     ]
    }
   ],
   "source": [
    "# Example 1: re.split()\n",
    "\n",
    "txt = '''I am teacher and  I love teaching.\n",
    "There is nothing as rewarding as educating and empowering people.\n",
    "I found teaching more interesting than any other jobs.\n",
    "Does this motivate you to be a teacher?'''\n",
    "print(re.split('\\n', txt)) # splitting using \\n - end of line symbol"
   ]
  },
  {
   "cell_type": "code",
   "execution_count": 8,
   "metadata": {
    "ExecuteTime": {
     "end_time": "2021-10-19T12:31:13.135822Z",
     "start_time": "2021-10-19T12:31:12.998997Z"
    },
    "colab": {
     "base_uri": "https://localhost:8080/"
    },
    "hidden": true,
    "id": "E6WsWDZkpuQJ",
    "outputId": "34089670-436d-4177-cf86-84cc12fc65dc"
   },
   "outputs": [
    {
     "name": "stdout",
     "output_type": "stream",
     "text": [
      "['Twelve:', ' Eighty nine:', '.']\n"
     ]
    }
   ],
   "source": [
    "# Example 2: re.split()\n",
    "\n",
    "import re\n",
    "\n",
    "string = 'Twelve:12 Eighty nine:89.'\n",
    "pattern = '\\d+'\n",
    "\n",
    "result = re.split(pattern, string)\n",
    "print(result)\n",
    "\n",
    "# Output: ['Twelve:', ' Eighty nine:', '.']"
   ]
  },
  {
   "cell_type": "markdown",
   "metadata": {
    "hidden": true,
    "id": "71BozoqopuQJ"
   },
   "source": [
    "If the pattern is not found, **`re.split`** returns a list containing the original string."
   ]
  },
  {
   "cell_type": "markdown",
   "metadata": {
    "hidden": true,
    "id": "lcjhzOajpuQJ"
   },
   "source": [
    "You can pass **`maxsplit`** argument to the **`re.split`** method. It's the maximum number of splits that will occur."
   ]
  },
  {
   "cell_type": "code",
   "execution_count": 9,
   "metadata": {
    "ExecuteTime": {
     "end_time": "2021-10-19T12:31:13.314030Z",
     "start_time": "2021-10-19T12:31:13.141663Z"
    },
    "colab": {
     "base_uri": "https://localhost:8080/"
    },
    "hidden": true,
    "id": "Y2afGsMbpuQJ",
    "outputId": "12279298-bfc0-4b5b-fa4d-5b908f9b25c8"
   },
   "outputs": [
    {
     "name": "stdout",
     "output_type": "stream",
     "text": [
      "['Twelve:', ' Eighty nine:89 Nine:9.']\n"
     ]
    }
   ],
   "source": [
    "# Example 3: re.split()\n",
    "\n",
    "import re\n",
    "\n",
    "string = 'Twelve:12 Eighty nine:89 Nine:9.'\n",
    "pattern = '\\d+'\n",
    "\n",
    "# maxsplit = 1\n",
    "# split only at the first occurrence\n",
    "result = re.split(pattern, string, 1)\n",
    "print(result)\n",
    "\n",
    "# Output: ['Twelve:', ' Eighty nine:89 Nine:9.']"
   ]
  },
  {
   "cell_type": "markdown",
   "metadata": {
    "hidden": true,
    "id": "KGE4r-YapuQJ"
   },
   "source": [
    "By the way, the default value of **`maxsplit`** is 0; meaning all possible splits."
   ]
  },
  {
   "cell_type": "markdown",
   "metadata": {
    "heading_collapsed": true,
    "id": "1udX6qyRpuQJ"
   },
   "source": [
    "### 3. `re.sub()`\n",
    "\n",
    "**Syntax:**\n",
    "\n",
    "```python\n",
    "re.sub(pattern, replace, string)\n",
    "```\n",
    "\n",
    "The method returns a string where matched occurrences are replaced with the content of **`replace`** variable."
   ]
  },
  {
   "cell_type": "code",
   "execution_count": 10,
   "metadata": {
    "ExecuteTime": {
     "end_time": "2021-10-19T12:31:13.431862Z",
     "start_time": "2021-10-19T12:31:13.327176Z"
    },
    "colab": {
     "base_uri": "https://localhost:8080/"
    },
    "hidden": true,
    "id": "rcJZRK6rpuQK",
    "outputId": "4745549b-e784-4a44-896d-d8f6e2b52bea"
   },
   "outputs": [
    {
     "name": "stdout",
     "output_type": "stream",
     "text": [
      "abc12de23f456\n"
     ]
    }
   ],
   "source": [
    "# Example 1: re.sub()\n",
    "\n",
    "# Program to remove all whitespaces\n",
    "import re\n",
    "\n",
    "# multiline string\n",
    "string = 'abc 12\\\n",
    "de 23 \\n f45 6'\n",
    "\n",
    "# matches all whitespace characters\n",
    "pattern = '\\s+'\n",
    "\n",
    "# empty string\n",
    "replace = ''\n",
    "\n",
    "new_string = re.sub(pattern, replace, string)\n",
    "print(new_string)\n",
    "\n",
    "# Output: abc12de23f456"
   ]
  },
  {
   "cell_type": "markdown",
   "metadata": {
    "hidden": true,
    "id": "tDZSswnopuQK"
   },
   "source": [
    "If the pattern is not found, **`re.sub()`** returns the original string."
   ]
  },
  {
   "cell_type": "markdown",
   "metadata": {
    "hidden": true,
    "id": "s7c-Eza-puQK"
   },
   "source": [
    "You can pass **`count`** as a fourth parameter to the **`re.sub()`** method. If omited, it results to 0. This will replace all occurrences."
   ]
  },
  {
   "cell_type": "code",
   "execution_count": 11,
   "metadata": {
    "ExecuteTime": {
     "end_time": "2021-10-19T12:31:13.555048Z",
     "start_time": "2021-10-19T12:31:13.434784Z"
    },
    "colab": {
     "base_uri": "https://localhost:8080/"
    },
    "hidden": true,
    "id": "rQUuMV3ZpuQL",
    "outputId": "6626cd87-7919-47b8-9dea-f4ae8d107876"
   },
   "outputs": [
    {
     "name": "stdout",
     "output_type": "stream",
     "text": [
      "abc12de 23 \n",
      " f45 6\n"
     ]
    }
   ],
   "source": [
    "# Example 2: re.sub()\n",
    "\n",
    "import re\n",
    "\n",
    "# multiline string\n",
    "string = 'abc 12\\\n",
    "de 23 \\n f45 6'\n",
    "\n",
    "# matches all whitespace characters\n",
    "pattern = '\\s+'\n",
    "replace = ''\n",
    "\n",
    "new_string = re.sub(r'\\s+', replace, string, 1)\n",
    "print(new_string)\n",
    "\n",
    "# Output:\n",
    "# abc12de 23\n",
    "# f45 6"
   ]
  },
  {
   "cell_type": "code",
   "execution_count": 12,
   "metadata": {
    "ExecuteTime": {
     "end_time": "2021-10-19T12:31:13.664605Z",
     "start_time": "2021-10-19T12:31:13.557971Z"
    },
    "colab": {
     "base_uri": "https://localhost:8080/"
    },
    "hidden": true,
    "id": "UtJIJ1vFpuQL",
    "outputId": "57f6b74c-cad6-4014-f2f0-7ffcdfe03470",
    "scrolled": true
   },
   "outputs": [
    {
     "name": "stdout",
     "output_type": "stream",
     "text": [
      "JavaScript is the most beautiful language that a human being has ever created.\n",
      "I recommend JavaScript for a first programming language\n",
      "JavaScript is the most beautiful language that a human being has ever created.\n",
      "I recommend JavaScript for a first programming language\n"
     ]
    }
   ],
   "source": [
    "# Example 3: re.sub()\n",
    "\n",
    "txt = '''Python is the most beautiful language that a human being has ever created.\n",
    "I recommend python for a first programming language'''\n",
    "\n",
    "match_replaced = re.sub('Python|python', 'JavaScript', txt, re.I)\n",
    "print(match_replaced)  # JavaScript is the most beautiful language that a human being has ever created.\n",
    "# OR\n",
    "match_replaced = re.sub('[Pp]ython', 'JavaScript', txt, re.I)\n",
    "print(match_replaced)  # JavaScript is the most beautiful language that a human being has ever created.\n"
   ]
  },
  {
   "cell_type": "markdown",
   "metadata": {
    "hidden": true,
    "id": "1P-GDBXCpuQL"
   },
   "source": [
    "Let us add one more example. The following string is really hard to read unless we remove the **`%`** symbol. Replacing the **`%`** with an empty string will clean the text."
   ]
  },
  {
   "cell_type": "code",
   "execution_count": 13,
   "metadata": {
    "ExecuteTime": {
     "end_time": "2021-10-19T12:31:13.773672Z",
     "start_time": "2021-10-19T12:31:13.667528Z"
    },
    "colab": {
     "base_uri": "https://localhost:8080/"
    },
    "hidden": true,
    "id": "_lI2HYrPpuQL",
    "outputId": "030fed2d-a7a5-4861-c164-42aaf1d3650e"
   },
   "outputs": [
    {
     "name": "stdout",
     "output_type": "stream",
     "text": [
      "I am teacher and  I love teaching. \n",
      "There is nothing as rewarding as educating and empowering people.\n",
      "I found teaching more interesting than any other jobs. \n",
      "Does this motivate you to be a teacher?\n"
     ]
    }
   ],
   "source": [
    "# Example 4: re.sub()\n",
    "\n",
    "txt = '''%I a%m te%%a%%che%r% a%n%d %% I l%o%ve te%ach%ing.\n",
    "T%he%re i%s n%o%th%ing as r%ewarding a%s e%duc%at%i%ng a%n%d e%m%p%ow%er%ing p%e%o%ple.\n",
    "I fo%und te%a%ching m%ore i%n%t%er%%es%ting t%h%an any other %jobs.\n",
    "D%o%es thi%s m%ot%iv%a%te %y%o%u to b%e a t%e%a%cher?'''\n",
    "\n",
    "matches = re.sub('%', '', txt)\n",
    "print(matches)"
   ]
  },
  {
   "cell_type": "markdown",
   "metadata": {
    "heading_collapsed": true,
    "id": "I--j2rzWpuQM"
   },
   "source": [
    "### 4. `re.subn()`\n",
    "\n",
    "The **`re.subn()`** is similar to **`re.sub()`** expect it returns a tuple of 2 items containing the new string and the number of substitutions made."
   ]
  },
  {
   "cell_type": "code",
   "execution_count": 14,
   "metadata": {
    "ExecuteTime": {
     "end_time": "2021-10-19T12:31:13.882253Z",
     "start_time": "2021-10-19T12:31:13.778545Z"
    },
    "colab": {
     "base_uri": "https://localhost:8080/"
    },
    "hidden": true,
    "id": "2h8KLa8cpuQN",
    "outputId": "f1d2884a-14f8-449d-8903-a96a9af2ef42"
   },
   "outputs": [
    {
     "name": "stdout",
     "output_type": "stream",
     "text": [
      "('abc12de23f456', 4)\n"
     ]
    }
   ],
   "source": [
    "# Example 1: re.subn()\n",
    "\n",
    "# Program to remove all whitespaces\n",
    "import re\n",
    "\n",
    "# multiline string\n",
    "string = 'abc 12\\\n",
    "de 23 \\n f45 6'\n",
    "\n",
    "# matches all whitespace characters\n",
    "pattern = '\\s+'\n",
    "\n",
    "# empty string\n",
    "replace = ''\n",
    "\n",
    "new_string = re.subn(pattern, replace, string)\n",
    "print(new_string)\n",
    "\n",
    "# Output: ('abc12de23f456', 4)"
   ]
  },
  {
   "cell_type": "markdown",
   "metadata": {
    "heading_collapsed": true,
    "id": "rUKuLnjGpuQO"
   },
   "source": [
    "### 5. `re.search()`\n",
    "\n",
    "The **`re.search()`** method takes two arguments: a pattern and a string. The method looks for the first location where the RegEx pattern produces a match with the string.\n",
    "\n",
    "If the search is successful, **`re.search()`** returns a match object; if not, it returns **`None`**.\n",
    "\n",
    "```python\n",
    "match = re.search(pattern, str)\n",
    "```"
   ]
  },
  {
   "cell_type": "code",
   "execution_count": 15,
   "metadata": {
    "ExecuteTime": {
     "end_time": "2021-10-19T12:31:14.006906Z",
     "start_time": "2021-10-19T12:31:13.885175Z"
    },
    "colab": {
     "base_uri": "https://localhost:8080/"
    },
    "hidden": true,
    "id": "-eD4K_f3puQP",
    "outputId": "2a23447c-2801-4356-c4f9-11498e45b0da"
   },
   "outputs": [
    {
     "name": "stdout",
     "output_type": "stream",
     "text": [
      "pattern found inside the string\n"
     ]
    }
   ],
   "source": [
    "# Example 1: re.search()\n",
    "\n",
    "import re\n",
    "\n",
    "string = \"Python is fun\"\n",
    "\n",
    "# check if 'Python' is at the beginning\n",
    "match = re.search('\\APython', string)\n",
    "\n",
    "if match:\n",
    "    print(\"pattern found inside the string\")\n",
    "else:\n",
    "    print(\"pattern not found\")\n",
    "\n",
    "# Output: pattern found inside the string"
   ]
  },
  {
   "cell_type": "markdown",
   "metadata": {
    "hidden": true,
    "id": "LqW1yZ1opuQP"
   },
   "source": [
    "Here, **`match`** contains a match object."
   ]
  },
  {
   "cell_type": "code",
   "execution_count": 16,
   "metadata": {
    "ExecuteTime": {
     "end_time": "2021-10-19T12:31:14.133017Z",
     "start_time": "2021-10-19T12:31:14.010801Z"
    },
    "colab": {
     "base_uri": "https://localhost:8080/"
    },
    "hidden": true,
    "id": "YpeiVNHVpuQP",
    "outputId": "12763e73-6cd9-4378-b02e-38eae7b4c6db"
   },
   "outputs": [
    {
     "name": "stdout",
     "output_type": "stream",
     "text": [
      "<re.Match object; span=(100, 105), match='first'>\n",
      "(100, 105)\n",
      "100 105\n",
      "first\n"
     ]
    }
   ],
   "source": [
    "# Example 2: re.search()\n",
    "\n",
    "import re\n",
    "\n",
    "txt = '''Python is the most beautiful language that a human being has ever created.\n",
    "I recommend python for a first programming language'''\n",
    "\n",
    "# It returns an object with span and match\n",
    "match = re.search('first', txt, re.I)\n",
    "print(match)  # <re.Match object; span=(100, 105), match='first'>\n",
    "# We can get the starting and ending position of the match as tuple using span\n",
    "span = match.span()\n",
    "print(span)     # (100, 105)\n",
    "# Lets find the start and stop position from the span\n",
    "start, end = span\n",
    "print(start, end)  # 100 105\n",
    "substring = txt[start:end]\n",
    "print(substring)       # first"
   ]
  },
  {
   "cell_type": "markdown",
   "metadata": {
    "heading_collapsed": true,
    "id": "M3j79zD5puQQ"
   },
   "source": [
    "## Match object\n",
    "\n",
    "You can get methods and attributes of a match object using dir() function.\n",
    "\n",
    "Some of the commonly used methods and attributes of match objects are:"
   ]
  },
  {
   "cell_type": "code",
   "execution_count": 17,
   "metadata": {
    "ExecuteTime": {
     "end_time": "2021-10-19T12:31:14.177809Z",
     "start_time": "2021-10-19T12:31:14.141780Z"
    },
    "colab": {
     "base_uri": "https://localhost:8080/"
    },
    "hidden": true,
    "id": "wvyT7-OTpuQQ",
    "outputId": "086727ba-d16e-4c3d-b9ee-28db28877c32"
   },
   "outputs": [
    {
     "name": "stdout",
     "output_type": "stream",
     "text": [
      "<re.Match object; span=(0, 15), match='I love to teach'>\n",
      "(0, 15)\n",
      "0 15\n",
      "I love to teach\n"
     ]
    }
   ],
   "source": [
    "import re\n",
    "\n",
    "txt = 'I love to teach python and javaScript'\n",
    "# It returns an object with span, and match\n",
    "match = re.match('I love to teach', txt, re.I)\n",
    "print(match)  # <re.Match object; span=(0, 15), match='I love to teach'>\n",
    "# We can get the starting and ending position of the match as tuple using span\n",
    "span = match.span()\n",
    "print(span)     # (0, 15)\n",
    "# Lets find the start and stop position from the span\n",
    "start, end = span\n",
    "print(start, end)  # 0, 15\n",
    "substring = txt[start:end]\n",
    "print(substring)       # I love to teach"
   ]
  },
  {
   "cell_type": "markdown",
   "metadata": {
    "hidden": true,
    "id": "ld-VC9UUpuQQ"
   },
   "source": [
    "As you can see from the example above, the pattern we are looking for (or the substring we are looking for) is **`I love to teach`**. The match function returns an object **only** if the text starts with the pattern."
   ]
  },
  {
   "cell_type": "code",
   "execution_count": 8,
   "metadata": {
    "ExecuteTime": {
     "end_time": "2021-10-19T12:31:14.209464Z",
     "start_time": "2021-10-19T12:31:14.185601Z"
    },
    "colab": {
     "base_uri": "https://localhost:8080/"
    },
    "hidden": true,
    "id": "AftUSbJdpuQR",
    "outputId": "9672eb4f-5bcb-4af1-e688-d49e66e1d5c0"
   },
   "outputs": [
    {
     "name": "stdout",
     "output_type": "stream",
     "text": [
      "None\n"
     ]
    }
   ],
   "source": [
    "import re\n",
    "\n",
    "txt = 'I love to teach python and javaScript'\n",
    "match = re.match('I like to teach', txt, re.I)\n",
    "print(match)  # None"
   ]
  },
  {
   "cell_type": "markdown",
   "metadata": {
    "hidden": true,
    "id": "SdB4TfuXpuQR"
   },
   "source": [
    "The string does not string with **`I like to teach`**, therefore there was no match and the match method returned **`None`**."
   ]
  },
  {
   "cell_type": "markdown",
   "metadata": {
    "heading_collapsed": true,
    "hidden": true,
    "id": "K0MOpRL4puQR"
   },
   "source": [
    "### 1. `match.group()`\n",
    "\n",
    "The **`group()`** method returns the part of the string where there is a match."
   ]
  },
  {
   "cell_type": "code",
   "execution_count": 19,
   "metadata": {
    "ExecuteTime": {
     "end_time": "2021-10-19T12:31:14.393998Z",
     "start_time": "2021-10-19T12:31:14.213355Z"
    },
    "colab": {
     "base_uri": "https://localhost:8080/"
    },
    "hidden": true,
    "id": "88YD3M1qpuQR",
    "outputId": "7332ee22-0345-43fe-9e66-b4f64d1d6ef8"
   },
   "outputs": [
    {
     "name": "stdout",
     "output_type": "stream",
     "text": [
      "801 35\n"
     ]
    }
   ],
   "source": [
    "# Example 6: Match object\n",
    "\n",
    "import re\n",
    "\n",
    "string = '39801 356, 2102 1111'\n",
    "\n",
    "# Three digit number followed by space followed by two digit number\n",
    "pattern = '(\\d{3}) (\\d{2})'\n",
    "\n",
    "# match variable contains a Match object.\n",
    "match = re.search(pattern, string)\n",
    "\n",
    "if match:\n",
    "    print(match.group())\n",
    "else:\n",
    "    print(\"pattern not found\")\n",
    "\n",
    "# Output: 801 35"
   ]
  },
  {
   "cell_type": "markdown",
   "metadata": {
    "hidden": true,
    "id": "uTJYW17ApuQS"
   },
   "source": [
    "Here, match variable contains a match object.\n",
    "\n",
    "Our pattern **`(\\d{3}) (\\d{2})`** has two subgroups **`(\\d{3})`** and **`(\\d{2})`**. You can get the part of the string of these parenthesized subgroups. Here's how:"
   ]
  },
  {
   "cell_type": "code",
   "execution_count": 20,
   "metadata": {
    "ExecuteTime": {
     "end_time": "2021-10-19T12:31:14.518650Z",
     "start_time": "2021-10-19T12:31:14.396921Z"
    },
    "colab": {
     "base_uri": "https://localhost:8080/"
    },
    "hidden": true,
    "id": "GSagHeC0puQS",
    "outputId": "ca46511f-1ab7-42e2-b466-2dcb006243c4"
   },
   "outputs": [
    {
     "data": {
      "application/vnd.google.colaboratory.intrinsic+json": {
       "type": "string"
      },
      "text/plain": [
       "'801'"
      ]
     },
     "execution_count": 20,
     "metadata": {},
     "output_type": "execute_result"
    }
   ],
   "source": [
    "match.group(1)"
   ]
  },
  {
   "cell_type": "code",
   "execution_count": 21,
   "metadata": {
    "ExecuteTime": {
     "end_time": "2021-10-19T12:31:14.643787Z",
     "start_time": "2021-10-19T12:31:14.523520Z"
    },
    "colab": {
     "base_uri": "https://localhost:8080/"
    },
    "hidden": true,
    "id": "fvVTDc4ZpuQS",
    "outputId": "f4216482-7dc0-4457-c574-eac2ff99fd20"
   },
   "outputs": [
    {
     "data": {
      "application/vnd.google.colaboratory.intrinsic+json": {
       "type": "string"
      },
      "text/plain": [
       "'35'"
      ]
     },
     "execution_count": 21,
     "metadata": {},
     "output_type": "execute_result"
    }
   ],
   "source": [
    "match.group(2)"
   ]
  },
  {
   "cell_type": "code",
   "execution_count": 22,
   "metadata": {
    "ExecuteTime": {
     "end_time": "2021-10-19T12:31:14.767947Z",
     "start_time": "2021-10-19T12:31:14.646708Z"
    },
    "colab": {
     "base_uri": "https://localhost:8080/"
    },
    "hidden": true,
    "id": "OHBZIwoPpuQS",
    "outputId": "0304d4ca-6ccc-4339-ed8a-6453d799c578"
   },
   "outputs": [
    {
     "data": {
      "text/plain": [
       "('801', '35')"
      ]
     },
     "execution_count": 22,
     "metadata": {},
     "output_type": "execute_result"
    }
   ],
   "source": [
    "match.group(1, 2)"
   ]
  },
  {
   "cell_type": "code",
   "execution_count": 23,
   "metadata": {
    "ExecuteTime": {
     "end_time": "2021-10-19T12:31:14.892597Z",
     "start_time": "2021-10-19T12:31:14.772818Z"
    },
    "colab": {
     "base_uri": "https://localhost:8080/"
    },
    "hidden": true,
    "id": "GODR7h0XpuQT",
    "outputId": "0ee8dc5d-0832-452a-c6d8-5c526ed07221"
   },
   "outputs": [
    {
     "data": {
      "text/plain": [
       "('801', '35')"
      ]
     },
     "execution_count": 23,
     "metadata": {},
     "output_type": "execute_result"
    }
   ],
   "source": [
    "match.groups()"
   ]
  },
  {
   "cell_type": "markdown",
   "metadata": {
    "heading_collapsed": true,
    "hidden": true,
    "id": "D7e6M8aCpuQT"
   },
   "source": [
    "### 2. `match.start(), match.end() and match.span()`\n",
    "\n",
    "The **`start()`** function returns the index of the start of the matched substring. Similarly, **`end()`** returns the end index of the matched substring."
   ]
  },
  {
   "cell_type": "code",
   "execution_count": 24,
   "metadata": {
    "ExecuteTime": {
     "end_time": "2021-10-19T12:31:14.986572Z",
     "start_time": "2021-10-19T12:31:14.903798Z"
    },
    "colab": {
     "base_uri": "https://localhost:8080/"
    },
    "hidden": true,
    "id": "MuUU3ACVpuQT",
    "outputId": "9296c7a8-2023-4aa1-8e05-0d6870c27ad4"
   },
   "outputs": [
    {
     "data": {
      "text/plain": [
       "2"
      ]
     },
     "execution_count": 24,
     "metadata": {},
     "output_type": "execute_result"
    }
   ],
   "source": [
    "match.start()"
   ]
  },
  {
   "cell_type": "code",
   "execution_count": 25,
   "metadata": {
    "ExecuteTime": {
     "end_time": "2021-10-19T12:31:15.173059Z",
     "start_time": "2021-10-19T12:31:14.991441Z"
    },
    "colab": {
     "base_uri": "https://localhost:8080/"
    },
    "hidden": true,
    "id": "V-hIJd7IpuQT",
    "outputId": "7015a033-1cee-45a8-bbfa-278417013924"
   },
   "outputs": [
    {
     "data": {
      "text/plain": [
       "8"
      ]
     },
     "execution_count": 25,
     "metadata": {},
     "output_type": "execute_result"
    }
   ],
   "source": [
    "match.end()"
   ]
  },
  {
   "cell_type": "markdown",
   "metadata": {
    "hidden": true,
    "id": "9mbmIRUBpuQU"
   },
   "source": [
    "The **`span()`** function returns a tuple containing start and end index of the matched part."
   ]
  },
  {
   "cell_type": "code",
   "execution_count": 26,
   "metadata": {
    "ExecuteTime": {
     "end_time": "2021-10-19T12:31:15.357112Z",
     "start_time": "2021-10-19T12:31:15.175979Z"
    },
    "colab": {
     "base_uri": "https://localhost:8080/"
    },
    "hidden": true,
    "id": "1nGTxvpZpuQU",
    "outputId": "4ecae03c-93b7-45bc-cafa-39c0f9f17526"
   },
   "outputs": [
    {
     "data": {
      "text/plain": [
       "(2, 8)"
      ]
     },
     "execution_count": 26,
     "metadata": {},
     "output_type": "execute_result"
    }
   ],
   "source": [
    "match.span()"
   ]
  },
  {
   "cell_type": "markdown",
   "metadata": {
    "heading_collapsed": true,
    "hidden": true,
    "id": "S4_gCoyTpuQU"
   },
   "source": [
    "### 3. `match.re and match.string`\n",
    "\n",
    "The **`re`** attribute of a matched object returns a regular expression object. Similarly, **`string`** attribute returns the passed string."
   ]
  },
  {
   "cell_type": "code",
   "execution_count": 27,
   "metadata": {
    "ExecuteTime": {
     "end_time": "2021-10-19T12:31:15.495395Z",
     "start_time": "2021-10-19T12:31:15.360033Z"
    },
    "colab": {
     "base_uri": "https://localhost:8080/"
    },
    "hidden": true,
    "id": "hbt9T0N6puQU",
    "outputId": "3d66ec1c-5728-4206-ec83-4eb696024e03"
   },
   "outputs": [
    {
     "data": {
      "text/plain": [
       "re.compile(r'(\\d{3}) (\\d{2})', re.UNICODE)"
      ]
     },
     "execution_count": 27,
     "metadata": {},
     "output_type": "execute_result"
    }
   ],
   "source": [
    "match.re"
   ]
  },
  {
   "cell_type": "code",
   "execution_count": 28,
   "metadata": {
    "ExecuteTime": {
     "end_time": "2021-10-19T12:31:15.603977Z",
     "start_time": "2021-10-19T12:31:15.502211Z"
    },
    "colab": {
     "base_uri": "https://localhost:8080/"
    },
    "hidden": true,
    "id": "JIEcK_5gpuQV",
    "outputId": "6ba770d3-0203-469a-f52f-f6ba8dd3e82a"
   },
   "outputs": [
    {
     "data": {
      "application/vnd.google.colaboratory.intrinsic+json": {
       "type": "string"
      },
      "text/plain": [
       "'39801 356, 2102 1111'"
      ]
     },
     "execution_count": 28,
     "metadata": {},
     "output_type": "execute_result"
    }
   ],
   "source": [
    "match.string"
   ]
  },
  {
   "cell_type": "markdown",
   "metadata": {
    "id": "QeuIXOhIpuQV"
   },
   "source": [
    "## Using `r` prefix before RegEx\n",
    "\n",
    "When **`r`** or **`R`** prefix is used before a regular expression, it means raw string. For example, **`'\\n'`** is a new line whereas **`r'\\n'`** means two characters: a backslash **`\\`** followed by **`n`**.\n",
    "\n",
    "Backlash **`\\`** is used to escape various characters including all metacharacters. However, using **`r`** prefix makes **`\\`** treat as a normal character."
   ]
  },
  {
   "cell_type": "code",
   "execution_count": 3,
   "metadata": {
    "ExecuteTime": {
     "end_time": "2021-10-19T12:31:15.712558Z",
     "start_time": "2021-10-19T12:31:15.606897Z"
    },
    "colab": {
     "base_uri": "https://localhost:8080/"
    },
    "id": "DQTiSPOFpuQV",
    "outputId": "b5fbd5a2-8a3a-4b8a-c0c5-08a8c4c2786c"
   },
   "outputs": [
    {
     "name": "stdout",
     "output_type": "stream",
     "text": [
      "['\\n', '\\r']\n"
     ]
    }
   ],
   "source": [
    "# Example 7: Raw string using r prefix\n",
    "\n",
    "import re\n",
    "\n",
    "string = '\\n and \\r are escape sequences.'\n",
    "\n",
    "result = re.findall(r'[\\n\\r]', string)\n",
    "print(result)\n",
    "\n",
    "# Output: ['\\n', '\\r']"
   ]
  },
  {
   "cell_type": "markdown",
   "metadata": {
    "id": "k6YZinpapuQV"
   },
   "source": [
    "## Example of RegEx with Metacharacters\n",
    "\n",
    "Let us use examples to clarify the meta characters with RegEx methods:"
   ]
  },
  {
   "cell_type": "markdown",
   "metadata": {
    "id": "6WiuWJ11puQV"
   },
   "source": [
    "### Square Brackets `[]`\n",
    "\n",
    "Let us use square bracket to include lower and upper case"
   ]
  },
  {
   "cell_type": "code",
   "execution_count": 30,
   "metadata": {
    "ExecuteTime": {
     "end_time": "2021-10-19T12:31:15.867882Z",
     "start_time": "2021-10-19T12:31:15.715479Z"
    },
    "colab": {
     "base_uri": "https://localhost:8080/"
    },
    "id": "TcGMPWK9puQW",
    "outputId": "574f98fb-bf52-4276-dedd-41200a66f526"
   },
   "outputs": [
    {
     "name": "stdout",
     "output_type": "stream",
     "text": [
      "['Apple', 'apple']\n"
     ]
    }
   ],
   "source": [
    "# Example 1:\n",
    "\n",
    "regex_pattern = r'[Aa]pple' # this square bracket mean either A or a\n",
    "txt = 'Apple and banana are fruits. An old cliche says an apple a day a doctor way has been replaced by a banana a day keeps the doctor far far away.'\n",
    "matches = re.findall(regex_pattern, txt)\n",
    "print(matches)  # ['Apple', 'apple']"
   ]
  },
  {
   "cell_type": "markdown",
   "metadata": {
    "id": "Pc2py8vPpuQW"
   },
   "source": [
    "If we want to look for the both apple and banana, we write the pattern as follows:"
   ]
  },
  {
   "cell_type": "code",
   "execution_count": 31,
   "metadata": {
    "ExecuteTime": {
     "end_time": "2021-10-19T12:31:16.054367Z",
     "start_time": "2021-10-19T12:31:15.881516Z"
    },
    "colab": {
     "base_uri": "https://localhost:8080/"
    },
    "id": "6SzRoPR0puQW",
    "outputId": "90e26849-b346-4831-f073-31eba14556e3"
   },
   "outputs": [
    {
     "name": "stdout",
     "output_type": "stream",
     "text": [
      "['Apple', 'banana', 'apple', 'banana']\n"
     ]
    }
   ],
   "source": [
    "# Example 2:\n",
    "\n",
    "regex_pattern = r'[Aa]pple|[Bb]anana' # this square bracket means either A or a\n",
    "txt = 'Apple and banana are fruits. An old cliche says an apple a day a doctor way has been replaced by a banana a day keeps the doctor far far away.'\n",
    "matches = re.findall(regex_pattern, txt)\n",
    "print(matches)  # ['Apple', 'banana', 'apple', 'banana']"
   ]
  },
  {
   "cell_type": "markdown",
   "metadata": {
    "id": "jD0i26S0puQW"
   },
   "source": [
    "Using the square brackets **`[]`** and or operator **`|`** , we manage to extract Apple, apple, Banana"
   ]
  },
  {
   "cell_type": "markdown",
   "metadata": {
    "id": "UNI1Dr2upuQW"
   },
   "source": [
    "### Escape character `\\`"
   ]
  },
  {
   "cell_type": "code",
   "execution_count": 32,
   "metadata": {
    "ExecuteTime": {
     "end_time": "2021-10-19T12:31:16.163438Z",
     "start_time": "2021-10-19T12:31:16.058264Z"
    },
    "colab": {
     "base_uri": "https://localhost:8080/"
    },
    "id": "YF6E148ipuQW",
    "outputId": "848ea005-79fe-4594-ae83-c892916e965d"
   },
   "outputs": [
    {
     "name": "stdout",
     "output_type": "stream",
     "text": [
      "['8', '1', '9', '4', '2', '1', '4', '2', '0', '1', '8', '7', '6']\n"
     ]
    }
   ],
   "source": [
    "# Example 1:\n",
    "\n",
    "regex_pattern = r'\\d'  # d is a special character which means digits\n",
    "txt = \"Hawking born on 8 January 1942 and died on 14 March 2018 Einstein's birth anniversary (Pi-Day) and both died at 76\"\n",
    "matches = re.findall(regex_pattern, txt)\n",
    "print(matches)  # ['8', '1', '9', '4', '2', '1', '4', '2', '0', '1', '8', '7', '6'] - this is not what we want"
   ]
  },
  {
   "cell_type": "markdown",
   "metadata": {
    "id": "CtdfT8xPpuQW"
   },
   "source": [
    "### One or more times `+`"
   ]
  },
  {
   "cell_type": "code",
   "execution_count": 33,
   "metadata": {
    "ExecuteTime": {
     "end_time": "2021-10-19T12:31:16.382549Z",
     "start_time": "2021-10-19T12:31:16.171716Z"
    },
    "colab": {
     "base_uri": "https://localhost:8080/"
    },
    "id": "8OqHzcdIpuQX",
    "outputId": "24067d3d-5106-441c-84cf-45eb646259d2"
   },
   "outputs": [
    {
     "name": "stdout",
     "output_type": "stream",
     "text": [
      "['8', '1942', '14', '2018', '76']\n"
     ]
    }
   ],
   "source": [
    "# Example 1:\n",
    "\n",
    "regex_pattern = r'\\d+'  # d is a special character which means digits, + mean one or more times\n",
    "txt = \"Hawking born on 8 January 1942 and died on 14 March 2018 Einstein's birth anniversary (Pi-Day) and both died at 76\"\n",
    "matches = re.findall(regex_pattern, txt)\n",
    "print(matches)  # ['8', '1942', '14', '2018', '76'] - this is better!"
   ]
  },
  {
   "cell_type": "markdown",
   "metadata": {
    "id": "BIhgXVGmpuQX"
   },
   "source": [
    "### Period `.`"
   ]
  },
  {
   "cell_type": "code",
   "execution_count": 34,
   "metadata": {
    "ExecuteTime": {
     "end_time": "2021-10-19T12:31:16.659111Z",
     "start_time": "2021-10-19T12:31:16.394236Z"
    },
    "colab": {
     "base_uri": "https://localhost:8080/"
    },
    "id": "klVQnWkBpuQX",
    "outputId": "2cd61261-6df8-4a0d-ad92-cca8fd8205ba"
   },
   "outputs": [
    {
     "name": "stdout",
     "output_type": "stream",
     "text": [
      "['an', 'an', 'an', 'a ', 'ar']\n"
     ]
    }
   ],
   "source": [
    "# Example 1:\n",
    "\n",
    "regex_pattern = r'[a].'  # this square bracket means a and . means any character except new line\n",
    "txt = '''Apple and Banana are fruits'''\n",
    "matches = re.findall(regex_pattern, txt)\n",
    "print(matches)  # ['an', 'an', 'an', 'a ', 'ar']"
   ]
  },
  {
   "cell_type": "code",
   "execution_count": 35,
   "metadata": {
    "ExecuteTime": {
     "end_time": "2021-10-19T12:31:16.860209Z",
     "start_time": "2021-10-19T12:31:16.662036Z"
    },
    "colab": {
     "base_uri": "https://localhost:8080/"
    },
    "id": "dbv22pR_puQX",
    "outputId": "10705aee-2a07-47a8-e031-64bce8091c5d",
    "scrolled": true
   },
   "outputs": [
    {
     "name": "stdout",
     "output_type": "stream",
     "text": [
      "['and Banana are fruits']\n"
     ]
    }
   ],
   "source": [
    "# Example 2: [] with +\n",
    "\n",
    "regex_pattern = r'[a].+'  # . any character, + any character one or more times\n",
    "matches = re.findall(regex_pattern, txt)\n",
    "print(matches)  # ['and Banana are fruits']"
   ]
  },
  {
   "cell_type": "markdown",
   "metadata": {
    "id": "VrJRMyRcpuQX"
   },
   "source": [
    "### Zero or more times `*`"
   ]
  },
  {
   "cell_type": "code",
   "execution_count": 36,
   "metadata": {
    "ExecuteTime": {
     "end_time": "2021-10-19T12:31:17.014072Z",
     "start_time": "2021-10-19T12:31:16.864104Z"
    },
    "colab": {
     "base_uri": "https://localhost:8080/"
    },
    "id": "nCcr9DpPpuQX",
    "outputId": "bb95b314-9a7a-4ab5-e411-69e78bc43e92"
   },
   "outputs": [
    {
     "name": "stdout",
     "output_type": "stream",
     "text": [
      "['and Banana are fruits']\n"
     ]
    }
   ],
   "source": [
    "# Example 1:\n",
    "\n",
    "regex_pattern = r'[a].*'  # . any character, * any character zero or more times\n",
    "txt = '''Apple and Banana are fruits'''\n",
    "matches = re.findall(regex_pattern, txt)\n",
    "print(matches)  # ['and Banana are fruits']"
   ]
  },
  {
   "cell_type": "markdown",
   "metadata": {
    "id": "6TVHYFC7puQY"
   },
   "source": [
    "### Zero or one time `?`\n",
    "\n",
    "Zero or one time. The pattern may not occur or it may occur once."
   ]
  },
  {
   "cell_type": "code",
   "execution_count": 37,
   "metadata": {
    "ExecuteTime": {
     "end_time": "2021-10-19T12:31:17.138727Z",
     "start_time": "2021-10-19T12:31:17.016994Z"
    },
    "colab": {
     "base_uri": "https://localhost:8080/"
    },
    "id": "1ZtLwB7DpuQY",
    "outputId": "042e2d1b-91ac-4c79-9ba1-ab98d811f93c"
   },
   "outputs": [
    {
     "name": "stdout",
     "output_type": "stream",
     "text": [
      "['e-mail', 'email', 'Email', 'E-mail']\n"
     ]
    }
   ],
   "source": [
    "# Example 1:\n",
    "\n",
    "txt = '''I am not sure if there is a convention how to write the word e-mail.\n",
    "Some people write it as email others may write it as Email or E-mail.'''\n",
    "regex_pattern = r'[Ee]-?mail'  # ? means here that '-' is optional\n",
    "matches = re.findall(regex_pattern, txt)\n",
    "print(matches)  # ['e-mail', 'email', 'Email', 'E-mail']"
   ]
  },
  {
   "cell_type": "markdown",
   "metadata": {
    "id": "kbPYIAxwpuQY"
   },
   "source": [
    "### Quantifier `{}`\n",
    "\n",
    "We can specify the length of the substring we are looking for in a text, using a curly brackets **`{}`**. Let us imagine, we are interested in a substring with a length of 4 characters:"
   ]
  },
  {
   "cell_type": "code",
   "execution_count": 38,
   "metadata": {
    "ExecuteTime": {
     "end_time": "2021-10-19T12:31:17.337869Z",
     "start_time": "2021-10-19T12:31:17.149921Z"
    },
    "colab": {
     "base_uri": "https://localhost:8080/"
    },
    "id": "e_J7Xx9bpuQY",
    "outputId": "5e9fb761-b380-489f-d173-984d504ebcf1"
   },
   "outputs": [
    {
     "name": "stdout",
     "output_type": "stream",
     "text": [
      "['1942', '2018']\n"
     ]
    }
   ],
   "source": [
    "# Example 1:\n",
    "\n",
    "txt = \"Hawking born on 8 January 1942 and died on 14 March 2018 Einstein's birth anniversary (Pi-Day) and both died at 76\"\n",
    "regex_pattern = r'\\d{4}'  # exactly four times\n",
    "matches = re.findall(regex_pattern, txt)\n",
    "print(matches)  # ['1942', '2018']"
   ]
  },
  {
   "cell_type": "code",
   "execution_count": 39,
   "metadata": {
    "ExecuteTime": {
     "end_time": "2021-10-19T12:31:17.507799Z",
     "start_time": "2021-10-19T12:31:17.340791Z"
    },
    "colab": {
     "base_uri": "https://localhost:8080/"
    },
    "id": "YFZddbjIpuQY",
    "outputId": "507981ef-6fd8-456f-d7d5-360a0e75a1a0"
   },
   "outputs": [
    {
     "name": "stdout",
     "output_type": "stream",
     "text": [
      "['8', '1942', '14', '2018', '76']\n"
     ]
    }
   ],
   "source": [
    "# Example 2:\n",
    "\n",
    "txt = \"Hawking born on 8 January 1942 and died on 14 March 2018 Einstein's birth anniversary (Pi-Day) and both died at 76\"\n",
    "regex_pattern = r'\\d{1,4}'   # 1 to 4\n",
    "matches = re.findall(regex_pattern, txt)\n",
    "print(matches)  # ['8', '1942', '76', '14', '2018', '76']"
   ]
  },
  {
   "cell_type": "markdown",
   "metadata": {
    "id": "nZIbG5ISpuQY"
   },
   "source": [
    "### Cart `^`"
   ]
  },
  {
   "cell_type": "code",
   "execution_count": 40,
   "metadata": {
    "ExecuteTime": {
     "end_time": "2021-10-19T12:31:17.630989Z",
     "start_time": "2021-10-19T12:31:17.510723Z"
    },
    "colab": {
     "base_uri": "https://localhost:8080/"
    },
    "id": "tlZYg4VXpuQY",
    "outputId": "1b89237b-c884-4ca8-c836-a15a83e076f3"
   },
   "outputs": [
    {
     "name": "stdout",
     "output_type": "stream",
     "text": [
      "['Hawking']\n"
     ]
    }
   ],
   "source": [
    "# Example 1: Starts with\n",
    "\n",
    "txt = \"Hawking born on 8 January 1942 and died on 14 March 2018 Einstein's birth anniversary (Pi-Day) and both died at 76\"\n",
    "regex_pattern = r'^Hawking'  # ^ means starts with\n",
    "matches = re.findall(regex_pattern, txt)\n",
    "print(matches)  # ['Hawking']"
   ]
  },
  {
   "cell_type": "code",
   "execution_count": 41,
   "metadata": {
    "ExecuteTime": {
     "end_time": "2021-10-19T12:31:17.817477Z",
     "start_time": "2021-10-19T12:31:17.633911Z"
    },
    "colab": {
     "base_uri": "https://localhost:8080/"
    },
    "id": "YKzzUVR9puQZ",
    "outputId": "58880290-c19d-43a4-c2b1-a3145907edc6"
   },
   "outputs": [
    {
     "name": "stdout",
     "output_type": "stream",
     "text": [
      "['8', '1942', '14', '2018', \"'\", '(', '-', ')', '76']\n"
     ]
    }
   ],
   "source": [
    "# Example 2: Negation\n",
    "\n",
    "txt = \"Hawking born on 8 January 1942 and died on 14 March 2018 Einstein's birth anniversary (Pi-Day) and both died at 76\"\n",
    "regex_pattern = r'[^A-Za-z ]+'  # ^ in set character means negation, not A to Z, not a to z, no space\n",
    "matches = re.findall(regex_pattern, txt)\n",
    "print(matches)  # ['8', '1942', '14', '2018', \"'\", '(', '-', ')', '76']"
   ]
  },
  {
   "cell_type": "markdown",
   "metadata": {
    "id": "tptCKHWGpuQZ"
   },
   "source": [
    "# Exercises:\n",
    "\n"
   ]
  },
  {
   "cell_type": "markdown",
   "metadata": {
    "id": "WNzQlu_Ru5KQ"
   },
   "source": [
    "## Exercise 1"
   ]
  },
  {
   "cell_type": "markdown",
   "metadata": {
    "id": "eLjPabAiu-Xx",
    "jp-MarkdownHeadingCollapsed": true
   },
   "source": [
    " 1. What is the most frequent word in the following paragraph?\n",
    "    - ```py\n",
    "paragraph = 'I love teaching. If you do not love teaching what else can you love. I love Python if you do not love something which can give you all the capabilities to develop an application what else can you love.\n",
    "    ```\n",
    "\n",
    "   - ```sy\n",
    "    [\n",
    "    (6, 'love'),\n",
    "    (5, 'you'),\n",
    "    (3, 'can'),\n",
    "    (2, 'what'),\n",
    "    (2, 'teaching'),\n",
    "    (2, 'not'),\n",
    "    (2, 'else'),\n",
    "    (2, 'do'),\n",
    "    (2, 'I'),\n",
    "    (1, 'which'),\n",
    "    (1, 'to'),\n",
    "    (1, 'the'),\n",
    "    (1, 'something'),\n",
    "    (1, 'if'),\n",
    "    (1, 'give'),\n",
    "    (1, 'develop'),\n",
    "    (1, 'capabilities'),\n",
    "    (1, 'application'),\n",
    "    (1, 'an'),\n",
    "    (1, 'all'),\n",
    "    (1, 'Python'),\n",
    "    (1, 'If')\n",
    "    ]\n",
    "    ```\n",
    "\n",
    "2. The position of some particles on the horizontal x-axis are -12, -4, -3 and -1 in the negative direction, 0 at origin, 4 and 8 in the positive direction. Extract these numbers from this whole text and find the distance between the two furthest particles.\n",
    "\n",
    "    - ```py\n",
    "points = ['-1', '2', '-4', '-3', '-1', '0', '4', '8']\n",
    "sorted_points =  [-4, -3, -1, -1, 0, 2, 4, 8]\n",
    "distance = 8 -(-4) # 12\n",
    "    ```"
   ]
  },
  {
   "cell_type": "code",
   "execution_count": 128,
   "metadata": {
    "id": "McQO7UgSu-jX"
   },
   "outputs": [
    {
     "name": "stdout",
     "output_type": "stream",
     "text": [
      "[('love', 6), ('you', 5), ('can', 3), ('do', 2), ('else', 2), ('i', 2), ('if', 2), ('not', 2), ('teaching', 2), ('what', 2), ('all', 1), ('an', 1), ('application', 1), ('capabilities', 1), ('develop', 1), ('give', 1), ('python', 1), ('something', 1), ('the', 1), ('to', 1), ('which', 1)]\n"
     ]
    }
   ],
   "source": [
    "text = \"I love teaching. If you do not love teaching what else can you love. I love Python if you do not love something which can give you all the capabilities to develop an application what else can you love.\"\n",
    "text = re.sub(r\"\\.\",\"\",text)\n",
    "listOfWords = re.split(\" \",text)\n",
    "for i in range(len(listOfWords)):\n",
    "    listOfWords[i] = listOfWords[i].lower()\n",
    "listOfWords.sort()\n",
    "new_list = {}\n",
    "counter = 1\n",
    "for j in range(len(listOfWords)):\n",
    "    if(j!=len(listOfWords)-1):\n",
    "        if(listOfWords[j]==listOfWords[j+1]):\n",
    "            counter+=1\n",
    "        else:\n",
    "            new_list[listOfWords[j]] = counter\n",
    "            counter = 1\n",
    "    else:\n",
    "            new_list[listOfWords[j]] = counter\n",
    "            counter = 1\n",
    "sorted_new_list = sorted(new_list.items(), key=lambda x:x[1],reverse=True)\n",
    "print(sorted_new_list)"
   ]
  },
  {
   "cell_type": "markdown",
   "metadata": {
    "id": "EA81N7RxuzLm"
   },
   "source": [
    "## Exercise 2"
   ]
  },
  {
   "cell_type": "markdown",
   "metadata": {
    "id": "2eNjNjDSuoPJ"
   },
   "source": [
    "\n",
    "1. Write a pattern which identifies if a string is a valid python variable\n",
    "\n",
    "    - ```py\n",
    "    is_valid_variable('first_name')  # True\n",
    "    is_valid_variable('first-name')  # False\n",
    "    is_valid_variable('1first_name') # False\n",
    "    is_valid_variable('firstname')   # True\n",
    "    ```"
   ]
  },
  {
   "cell_type": "code",
   "execution_count": 1,
   "metadata": {
    "id": "MKbREXpuu4o3"
   },
   "outputs": [
    {
     "ename": "NameError",
     "evalue": "name 're' is not defined",
     "output_type": "error",
     "traceback": [
      "\u001b[1;31m---------------------------------------------------------------------------\u001b[0m",
      "\u001b[1;31mNameError\u001b[0m                                 Traceback (most recent call last)",
      "Cell \u001b[1;32mIn[1], line 3\u001b[0m\n\u001b[0;32m      1\u001b[0m pattern \u001b[38;5;241m=\u001b[39m \u001b[38;5;124m\"\u001b[39m\u001b[38;5;124m^[a-zA-Z_][0-9A-Za-z_]*[0-9a-zA-Z_]*$\u001b[39m\u001b[38;5;124m\"\u001b[39m\n\u001b[0;32m      2\u001b[0m txt \u001b[38;5;241m=\u001b[39m \u001b[38;5;124m\"\u001b[39m\u001b[38;5;124m_Ali236_H_\u001b[39m\u001b[38;5;124m\"\u001b[39m\n\u001b[1;32m----> 3\u001b[0m result \u001b[38;5;241m=\u001b[39m re\u001b[38;5;241m.\u001b[39msearch(pattern,txt)\n\u001b[0;32m      4\u001b[0m \u001b[38;5;28;01mif\u001b[39;00m(result):\n\u001b[0;32m      5\u001b[0m     \u001b[38;5;28mprint\u001b[39m(\u001b[38;5;124m\"\u001b[39m\u001b[38;5;124mvalid\u001b[39m\u001b[38;5;124m\"\u001b[39m)\n",
      "\u001b[1;31mNameError\u001b[0m: name 're' is not defined"
     ]
    }
   ],
   "source": [
    "pattern = \"^[a-zA-Z_][0-9A-Za-z_]*[0-9a-zA-Z_]*$\"\n",
    "txt = \"_Ali236_H_\"\n",
    "result = re.search(pattern,txt)\n",
    "if(result):\n",
    "    print(\"valid\")\n",
    "else:\n",
    "    print(\"not valid\")"
   ]
  },
  {
   "cell_type": "markdown",
   "metadata": {
    "id": "dLbnsSvdsY_o"
   },
   "source": [
    "## Exercise 3\n",
    "\n"
   ]
  },
  {
   "cell_type": "markdown",
   "metadata": {
    "id": "uCBPA6IhtZCJ"
   },
   "source": [
    "1. Clean the following text. After cleaning, count three most frequent words in the string.\n",
    "\n",
    "    - ```py\n",
    "    sentence = '''%I $am@% a %tea@cher%, &and& I lo%#ve %tea@ching%;. There $is nothing; &as& mo@re rewarding as educa@ting &and& @emp%o@wering peo@ple. ;I found tea@ching m%o@re interesting tha@n any other %jo@bs. %Do@es thi%s mo@tivate yo@u to be a tea@cher!?'''\n",
    "\n",
    "    print(clean_text(sentence)):\n",
    "   output: \"I am a teacher and I love teaching There is nothing as more rewarding as educating and empowering people I found teaching more interesting than any other jobs Does this motivate you to be a teacher\"\n",
    "    \n",
    "    print(most_frequent_words(cleaned_text)):\n",
    "    output: \"[(3, 'I'), (2, 'teaching'), (2, 'teacher')]\"\n",
    "    ```"
   ]
  },
  {
   "cell_type": "code",
   "execution_count": 140,
   "metadata": {
    "id": "lDlAIO71puQZ"
   },
   "outputs": [
    {
     "name": "stdout",
     "output_type": "stream",
     "text": [
      "I am a teacher and I love teaching There is nothing as more rewarding as educating and empowering people I found teaching more interesting than any other jobs Does this motivate you to be a teacher\n",
      "\n",
      "\n",
      "\n",
      "[('i', 3), ('a', 2), ('and', 2), ('as', 2), ('more', 2), ('teacher', 2), ('teaching', 2), ('am', 1), ('any', 1), ('be', 1), ('does', 1), ('educating', 1), ('empowering', 1), ('found', 1), ('interesting', 1), ('is', 1), ('jobs', 1), ('love', 1), ('motivate', 1), ('nothing', 1), ('other', 1), ('people', 1), ('rewarding', 1), ('than', 1), ('there', 1), ('this', 1), ('to', 1), ('you', 1)]\n"
     ]
    }
   ],
   "source": [
    "# print 'clean text'\n",
    "import re\n",
    "def clean_text(text):\n",
    "    pattern = \"[^A-Za-z0-9 ]\"\n",
    "    cleanText = re.sub(pattern,\"\",text)\n",
    "    return cleanText\n",
    "text = '''%I $am@% a %tea@cher%, &and& I lo%#ve %tea@ching%;. There $is nothing; &as& mo@re rewarding as educa@ting &and& @emp%o@wering peo@ple. ;I found tea@ching m%o@re interesting tha@n any other %jo@bs. %Do@es thi%s mo@tivate yo@u to be a tea@cher!?'''\n",
    "cleanText = clean_text(text)\n",
    "print(cleanText)\n",
    "\n",
    "\n",
    "print()\n",
    "print()\n",
    "print()\n",
    "\n",
    "\n",
    "# print 'most frequent words'\n",
    "cleanText = re.split(\" \",cleanText)\n",
    "for i in range(len(cleanText)):\n",
    "    cleanText[i] = cleanText[i].lower()\n",
    "cleanText.sort()\n",
    "new_list = {}\n",
    "counter = 1\n",
    "for j in range(len(cleanText)):\n",
    "    if(j!=len(cleanText)-1):\n",
    "        if(cleanText[j]==cleanText[j+1]):\n",
    "            counter+=1\n",
    "        else:\n",
    "            new_list[cleanText[j]] = counter\n",
    "            counter = 1\n",
    "    else:\n",
    "            new_list[cleanText[j]] = counter\n",
    "            counter = 1\n",
    "sorted_new_list = sorted(new_list.items(), key=lambda x:x[1],reverse=True)\n",
    "print(sorted_new_list)\n"
   ]
  },
  {
   "cell_type": "code",
   "execution_count": null,
   "metadata": {},
   "outputs": [],
   "source": []
  }
 ],
 "metadata": {
  "colab": {
   "provenance": []
  },
  "hide_input": false,
  "kernelspec": {
   "display_name": "Python 3 (ipykernel)",
   "language": "python",
   "name": "python3"
  },
  "language_info": {
   "codemirror_mode": {
    "name": "ipython",
    "version": 3
   },
   "file_extension": ".py",
   "mimetype": "text/x-python",
   "name": "python",
   "nbconvert_exporter": "python",
   "pygments_lexer": "ipython3",
   "version": "3.12.4"
  },
  "toc": {
   "base_numbering": 1,
   "nav_menu": {},
   "number_sections": true,
   "sideBar": true,
   "skip_h1_title": false,
   "title_cell": "Table of Contents",
   "title_sidebar": "Contents",
   "toc_cell": false,
   "toc_position": {},
   "toc_section_display": true,
   "toc_window_display": false
  },
  "varInspector": {
   "cols": {
    "lenName": 16,
    "lenType": 16,
    "lenVar": 40
   },
   "kernels_config": {
    "python": {
     "delete_cmd_postfix": "",
     "delete_cmd_prefix": "del ",
     "library": "var_list.py",
     "varRefreshCmd": "print(var_dic_list())"
    },
    "r": {
     "delete_cmd_postfix": ") ",
     "delete_cmd_prefix": "rm(",
     "library": "var_list.r",
     "varRefreshCmd": "cat(var_dic_list()) "
    }
   },
   "types_to_exclude": [
    "module",
    "function",
    "builtin_function_or_method",
    "instance",
    "_Feature"
   ],
   "window_display": false
  }
 },
 "nbformat": 4,
 "nbformat_minor": 4
}
